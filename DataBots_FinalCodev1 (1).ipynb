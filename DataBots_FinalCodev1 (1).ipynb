{
  "cells": [
    {
      "cell_type": "code",
      "execution_count": 140,
      "metadata": {
        "colab": {
          "base_uri": "https://localhost:8080/"
        },
        "id": "I3WeI1ybCefR",
        "outputId": "7ef0387a-27f7-4211-8858-99cec6c4b55f"
      },
      "outputs": [
        {
          "output_type": "stream",
          "name": "stdout",
          "text": [
            "[nltk_data] Downloading package stopwords to /root/nltk_data...\n",
            "[nltk_data]   Package stopwords is already up-to-date!\n",
            "   ID     Gene Variation\n",
            "0   0    ACSL4     R570S\n",
            "1   1    NAGLU     P521L\n",
            "2   2      PAH     L333F\n",
            "3   3     ING1     A148D\n",
            "4   4  TMEM216      G77A\n"
          ]
        }
      ],
      "source": [
        "# importing all the libraries\n",
        "from sklearn.datasets import make_classification\n",
        "#from sklearn.model_selection import train_test_split\n",
        "#from sklearn.cross_validation import StratifiedShuffleSplit\n",
        "from sklearn.metrics import accuracy_score, f1_score, precision_score, recall_score, classification_report, confusion_matrix\n",
        "\n",
        "\n",
        "#importing confusion matrix for \n",
        "from sklearn.metrics import confusion_matrix\n",
        "import numpy as np\n",
        "from gensim.models import KeyedVectors\n",
        "from sklearn import model_selection\n",
        "import nltk\n",
        "nltk.download('stopwords')\n",
        "from nltk.corpus import stopwords\n",
        "\n",
        "from gensim.summarization import summarize\n",
        "from gensim.summarization import keywords\n",
        "\n",
        "from nltk.tokenize import word_tokenize\n",
        "from nltk.stem import WordNetLemmatizer # caring to care\n",
        "from nltk.corpus import stopwords\n",
        "from string import punctuation\n",
        "\n",
        "#from scipy.misc import imresize (did not run)\n",
        "from PIL import Image\n",
        "\n",
        "from collections import Counter\n",
        "from sklearn.metrics import confusion_matrix\n",
        "\n",
        "# Word2Vec related libraries\n",
        "\n",
        "\n",
        "#Importing dataset\n",
        "import pandas as pd\n",
        "import numpy as np\n",
        "import matplotlib.pyplot as plt\n",
        "import seaborn as sns\n",
        "import pickle\n",
        "from joblib import dump,load\n",
        "\n",
        "import re\n",
        "# reading the training dataset into the variable train_dataset\n",
        "train_dataset = pd.read_csv('/content/training_variants')\n",
        "#reading the test dataset  into variable  test_dataset\n",
        "test_dataset = pd.read_csv('/content/test_variants')\n",
        "print(test_dataset.head())# print the first five rows of test dataset"
      ]
    },
    {
      "cell_type": "code",
      "execution_count": 141,
      "metadata": {
        "id": "MCMwUuxCCefW",
        "colab": {
          "base_uri": "https://localhost:8080/",
          "height": 260
        },
        "outputId": "16aea2c2-2ab2-4632-d8fe-00e90b7a553a"
      },
      "outputs": [
        {
          "output_type": "stream",
          "name": "stdout",
          "text": [
            "No of rows :  3321\n",
            "No of Features :  2\n",
            "Feature_names :  ['ID' 'TEXT']\n"
          ]
        },
        {
          "output_type": "execute_result",
          "data": {
            "text/html": [
              "\n",
              "  <div id=\"df-1f6afc02-42fc-427d-9c01-661d98eb3db7\">\n",
              "    <div class=\"colab-df-container\">\n",
              "      <div>\n",
              "<style scoped>\n",
              "    .dataframe tbody tr th:only-of-type {\n",
              "        vertical-align: middle;\n",
              "    }\n",
              "\n",
              "    .dataframe tbody tr th {\n",
              "        vertical-align: top;\n",
              "    }\n",
              "\n",
              "    .dataframe thead th {\n",
              "        text-align: right;\n",
              "    }\n",
              "</style>\n",
              "<table border=\"1\" class=\"dataframe\">\n",
              "  <thead>\n",
              "    <tr style=\"text-align: right;\">\n",
              "      <th></th>\n",
              "      <th>ID</th>\n",
              "      <th>TEXT</th>\n",
              "    </tr>\n",
              "  </thead>\n",
              "  <tbody>\n",
              "    <tr>\n",
              "      <th>0</th>\n",
              "      <td>0</td>\n",
              "      <td>Cyclin-dependent kinases (CDKs) regulate a var...</td>\n",
              "    </tr>\n",
              "    <tr>\n",
              "      <th>1</th>\n",
              "      <td>1</td>\n",
              "      <td>Abstract Background  Non-small cell lung canc...</td>\n",
              "    </tr>\n",
              "    <tr>\n",
              "      <th>2</th>\n",
              "      <td>2</td>\n",
              "      <td>Abstract Background  Non-small cell lung canc...</td>\n",
              "    </tr>\n",
              "    <tr>\n",
              "      <th>3</th>\n",
              "      <td>3</td>\n",
              "      <td>Recent evidence has demonstrated that acquired...</td>\n",
              "    </tr>\n",
              "    <tr>\n",
              "      <th>4</th>\n",
              "      <td>4</td>\n",
              "      <td>Oncogenic mutations in the monomeric Casitas B...</td>\n",
              "    </tr>\n",
              "  </tbody>\n",
              "</table>\n",
              "</div>\n",
              "      <button class=\"colab-df-convert\" onclick=\"convertToInteractive('df-1f6afc02-42fc-427d-9c01-661d98eb3db7')\"\n",
              "              title=\"Convert this dataframe to an interactive table.\"\n",
              "              style=\"display:none;\">\n",
              "        \n",
              "  <svg xmlns=\"http://www.w3.org/2000/svg\" height=\"24px\"viewBox=\"0 0 24 24\"\n",
              "       width=\"24px\">\n",
              "    <path d=\"M0 0h24v24H0V0z\" fill=\"none\"/>\n",
              "    <path d=\"M18.56 5.44l.94 2.06.94-2.06 2.06-.94-2.06-.94-.94-2.06-.94 2.06-2.06.94zm-11 1L8.5 8.5l.94-2.06 2.06-.94-2.06-.94L8.5 2.5l-.94 2.06-2.06.94zm10 10l.94 2.06.94-2.06 2.06-.94-2.06-.94-.94-2.06-.94 2.06-2.06.94z\"/><path d=\"M17.41 7.96l-1.37-1.37c-.4-.4-.92-.59-1.43-.59-.52 0-1.04.2-1.43.59L10.3 9.45l-7.72 7.72c-.78.78-.78 2.05 0 2.83L4 21.41c.39.39.9.59 1.41.59.51 0 1.02-.2 1.41-.59l7.78-7.78 2.81-2.81c.8-.78.8-2.07 0-2.86zM5.41 20L4 18.59l7.72-7.72 1.47 1.35L5.41 20z\"/>\n",
              "  </svg>\n",
              "      </button>\n",
              "      \n",
              "  <style>\n",
              "    .colab-df-container {\n",
              "      display:flex;\n",
              "      flex-wrap:wrap;\n",
              "      gap: 12px;\n",
              "    }\n",
              "\n",
              "    .colab-df-convert {\n",
              "      background-color: #E8F0FE;\n",
              "      border: none;\n",
              "      border-radius: 50%;\n",
              "      cursor: pointer;\n",
              "      display: none;\n",
              "      fill: #1967D2;\n",
              "      height: 32px;\n",
              "      padding: 0 0 0 0;\n",
              "      width: 32px;\n",
              "    }\n",
              "\n",
              "    .colab-df-convert:hover {\n",
              "      background-color: #E2EBFA;\n",
              "      box-shadow: 0px 1px 2px rgba(60, 64, 67, 0.3), 0px 1px 3px 1px rgba(60, 64, 67, 0.15);\n",
              "      fill: #174EA6;\n",
              "    }\n",
              "\n",
              "    [theme=dark] .colab-df-convert {\n",
              "      background-color: #3B4455;\n",
              "      fill: #D2E3FC;\n",
              "    }\n",
              "\n",
              "    [theme=dark] .colab-df-convert:hover {\n",
              "      background-color: #434B5C;\n",
              "      box-shadow: 0px 1px 3px 1px rgba(0, 0, 0, 0.15);\n",
              "      filter: drop-shadow(0px 1px 2px rgba(0, 0, 0, 0.3));\n",
              "      fill: #FFFFFF;\n",
              "    }\n",
              "  </style>\n",
              "\n",
              "      <script>\n",
              "        const buttonEl =\n",
              "          document.querySelector('#df-1f6afc02-42fc-427d-9c01-661d98eb3db7 button.colab-df-convert');\n",
              "        buttonEl.style.display =\n",
              "          google.colab.kernel.accessAllowed ? 'block' : 'none';\n",
              "\n",
              "        async function convertToInteractive(key) {\n",
              "          const element = document.querySelector('#df-1f6afc02-42fc-427d-9c01-661d98eb3db7');\n",
              "          const dataTable =\n",
              "            await google.colab.kernel.invokeFunction('convertToInteractive',\n",
              "                                                     [key], {});\n",
              "          if (!dataTable) return;\n",
              "\n",
              "          const docLinkHtml = 'Like what you see? Visit the ' +\n",
              "            '<a target=\"_blank\" href=https://colab.research.google.com/notebooks/data_table.ipynb>data table notebook</a>'\n",
              "            + ' to learn more about interactive tables.';\n",
              "          element.innerHTML = '';\n",
              "          dataTable['output_type'] = 'display_data';\n",
              "          await google.colab.output.renderOutput(dataTable, element);\n",
              "          const docLink = document.createElement('div');\n",
              "          docLink.innerHTML = docLinkHtml;\n",
              "          element.appendChild(docLink);\n",
              "        }\n",
              "      </script>\n",
              "    </div>\n",
              "  </div>\n",
              "  "
            ],
            "text/plain": [
              "   ID                                               TEXT\n",
              "0   0  Cyclin-dependent kinases (CDKs) regulate a var...\n",
              "1   1   Abstract Background  Non-small cell lung canc...\n",
              "2   2   Abstract Background  Non-small cell lung canc...\n",
              "3   3  Recent evidence has demonstrated that acquired...\n",
              "4   4  Oncogenic mutations in the monomeric Casitas B..."
            ]
          },
          "metadata": {},
          "execution_count": 141
        }
      ],
      "source": [
        "#Reading the training_text dataset and printing the dimension values.\n",
        "text_file  =pd.read_csv(\"/content/training_text\",sep=\"\\|\\|\",engine=\"python\",names=[\"ID\",\"TEXT\"],skiprows=1)\n",
        "print(\"No of rows : \", text_file.shape[0])\n",
        "print(\"No of Features : \", text_file.shape[1])\n",
        "print(\"Feature_names : \", text_file.columns.values)\n",
        "text_file.head()"
      ]
    },
    {
      "cell_type": "code",
      "execution_count": 142,
      "metadata": {
        "id": "adRsx3ZDCefX"
      },
      "outputs": [],
      "source": [
        "\n",
        "\n",
        "# loading stop words from nltk library\n",
        "stop_words = set(stopwords.words('english'))\n"
      ]
    },
    {
      "cell_type": "code",
      "execution_count": 143,
      "metadata": {
        "id": "kWCoKXuqbaR-"
      },
      "outputs": [],
      "source": [
        "\n",
        "def nlp_preprocessing(text, index, column):\n",
        "    if type(text) is not int:\n",
        "        string = \"\"\n",
        "        # replace every special char with space\n",
        "        text = re.sub('[^a-zA-Z0-9\\n]', ' ', text)\n",
        "        # replace multiple spaces with single space\n",
        "        text = re.sub('\\s+',' ', text)\n",
        "        # converting all the chars into lower-case.\n",
        "        text = text.lower()\n",
        "        \n",
        "        for word in total_text.split():\n",
        "        # if the word is a not a stop word then retain that word from the data\n",
        "            if not word in stop_words:\n",
        "                string += word + \" \"\n",
        "        \n",
        "        text_file[column][index] = string"
      ]
    },
    {
      "cell_type": "code",
      "execution_count": 144,
      "metadata": {
        "colab": {
          "base_uri": "https://localhost:8080/",
          "height": 423
        },
        "id": "RXC4V_HPbaR_",
        "outputId": "5dcad068-030d-41a9-ae58-56198eb1f07d"
      },
      "outputs": [
        {
          "output_type": "execute_result",
          "data": {
            "text/html": [
              "\n",
              "  <div id=\"df-b8cf7e47-beee-4c79-bcf4-296f2975836d\">\n",
              "    <div class=\"colab-df-container\">\n",
              "      <div>\n",
              "<style scoped>\n",
              "    .dataframe tbody tr th:only-of-type {\n",
              "        vertical-align: middle;\n",
              "    }\n",
              "\n",
              "    .dataframe tbody tr th {\n",
              "        vertical-align: top;\n",
              "    }\n",
              "\n",
              "    .dataframe thead th {\n",
              "        text-align: right;\n",
              "    }\n",
              "</style>\n",
              "<table border=\"1\" class=\"dataframe\">\n",
              "  <thead>\n",
              "    <tr style=\"text-align: right;\">\n",
              "      <th></th>\n",
              "      <th>ID</th>\n",
              "      <th>Gene</th>\n",
              "      <th>Variation</th>\n",
              "      <th>Class</th>\n",
              "    </tr>\n",
              "  </thead>\n",
              "  <tbody>\n",
              "    <tr>\n",
              "      <th>0</th>\n",
              "      <td>0</td>\n",
              "      <td>FAM58A</td>\n",
              "      <td>Truncating Mutations</td>\n",
              "      <td>1</td>\n",
              "    </tr>\n",
              "    <tr>\n",
              "      <th>1</th>\n",
              "      <td>1</td>\n",
              "      <td>CBL</td>\n",
              "      <td>W802*</td>\n",
              "      <td>2</td>\n",
              "    </tr>\n",
              "    <tr>\n",
              "      <th>2</th>\n",
              "      <td>2</td>\n",
              "      <td>CBL</td>\n",
              "      <td>Q249E</td>\n",
              "      <td>2</td>\n",
              "    </tr>\n",
              "    <tr>\n",
              "      <th>3</th>\n",
              "      <td>3</td>\n",
              "      <td>CBL</td>\n",
              "      <td>N454D</td>\n",
              "      <td>3</td>\n",
              "    </tr>\n",
              "    <tr>\n",
              "      <th>4</th>\n",
              "      <td>4</td>\n",
              "      <td>CBL</td>\n",
              "      <td>L399V</td>\n",
              "      <td>4</td>\n",
              "    </tr>\n",
              "    <tr>\n",
              "      <th>...</th>\n",
              "      <td>...</td>\n",
              "      <td>...</td>\n",
              "      <td>...</td>\n",
              "      <td>...</td>\n",
              "    </tr>\n",
              "    <tr>\n",
              "      <th>3316</th>\n",
              "      <td>3316</td>\n",
              "      <td>RUNX1</td>\n",
              "      <td>D171N</td>\n",
              "      <td>4</td>\n",
              "    </tr>\n",
              "    <tr>\n",
              "      <th>3317</th>\n",
              "      <td>3317</td>\n",
              "      <td>RUNX1</td>\n",
              "      <td>A122*</td>\n",
              "      <td>1</td>\n",
              "    </tr>\n",
              "    <tr>\n",
              "      <th>3318</th>\n",
              "      <td>3318</td>\n",
              "      <td>RUNX1</td>\n",
              "      <td>Fusions</td>\n",
              "      <td>1</td>\n",
              "    </tr>\n",
              "    <tr>\n",
              "      <th>3319</th>\n",
              "      <td>3319</td>\n",
              "      <td>RUNX1</td>\n",
              "      <td>R80C</td>\n",
              "      <td>4</td>\n",
              "    </tr>\n",
              "    <tr>\n",
              "      <th>3320</th>\n",
              "      <td>3320</td>\n",
              "      <td>RUNX1</td>\n",
              "      <td>K83E</td>\n",
              "      <td>4</td>\n",
              "    </tr>\n",
              "  </tbody>\n",
              "</table>\n",
              "<p>3321 rows × 4 columns</p>\n",
              "</div>\n",
              "      <button class=\"colab-df-convert\" onclick=\"convertToInteractive('df-b8cf7e47-beee-4c79-bcf4-296f2975836d')\"\n",
              "              title=\"Convert this dataframe to an interactive table.\"\n",
              "              style=\"display:none;\">\n",
              "        \n",
              "  <svg xmlns=\"http://www.w3.org/2000/svg\" height=\"24px\"viewBox=\"0 0 24 24\"\n",
              "       width=\"24px\">\n",
              "    <path d=\"M0 0h24v24H0V0z\" fill=\"none\"/>\n",
              "    <path d=\"M18.56 5.44l.94 2.06.94-2.06 2.06-.94-2.06-.94-.94-2.06-.94 2.06-2.06.94zm-11 1L8.5 8.5l.94-2.06 2.06-.94-2.06-.94L8.5 2.5l-.94 2.06-2.06.94zm10 10l.94 2.06.94-2.06 2.06-.94-2.06-.94-.94-2.06-.94 2.06-2.06.94z\"/><path d=\"M17.41 7.96l-1.37-1.37c-.4-.4-.92-.59-1.43-.59-.52 0-1.04.2-1.43.59L10.3 9.45l-7.72 7.72c-.78.78-.78 2.05 0 2.83L4 21.41c.39.39.9.59 1.41.59.51 0 1.02-.2 1.41-.59l7.78-7.78 2.81-2.81c.8-.78.8-2.07 0-2.86zM5.41 20L4 18.59l7.72-7.72 1.47 1.35L5.41 20z\"/>\n",
              "  </svg>\n",
              "      </button>\n",
              "      \n",
              "  <style>\n",
              "    .colab-df-container {\n",
              "      display:flex;\n",
              "      flex-wrap:wrap;\n",
              "      gap: 12px;\n",
              "    }\n",
              "\n",
              "    .colab-df-convert {\n",
              "      background-color: #E8F0FE;\n",
              "      border: none;\n",
              "      border-radius: 50%;\n",
              "      cursor: pointer;\n",
              "      display: none;\n",
              "      fill: #1967D2;\n",
              "      height: 32px;\n",
              "      padding: 0 0 0 0;\n",
              "      width: 32px;\n",
              "    }\n",
              "\n",
              "    .colab-df-convert:hover {\n",
              "      background-color: #E2EBFA;\n",
              "      box-shadow: 0px 1px 2px rgba(60, 64, 67, 0.3), 0px 1px 3px 1px rgba(60, 64, 67, 0.15);\n",
              "      fill: #174EA6;\n",
              "    }\n",
              "\n",
              "    [theme=dark] .colab-df-convert {\n",
              "      background-color: #3B4455;\n",
              "      fill: #D2E3FC;\n",
              "    }\n",
              "\n",
              "    [theme=dark] .colab-df-convert:hover {\n",
              "      background-color: #434B5C;\n",
              "      box-shadow: 0px 1px 3px 1px rgba(0, 0, 0, 0.15);\n",
              "      filter: drop-shadow(0px 1px 2px rgba(0, 0, 0, 0.3));\n",
              "      fill: #FFFFFF;\n",
              "    }\n",
              "  </style>\n",
              "\n",
              "      <script>\n",
              "        const buttonEl =\n",
              "          document.querySelector('#df-b8cf7e47-beee-4c79-bcf4-296f2975836d button.colab-df-convert');\n",
              "        buttonEl.style.display =\n",
              "          google.colab.kernel.accessAllowed ? 'block' : 'none';\n",
              "\n",
              "        async function convertToInteractive(key) {\n",
              "          const element = document.querySelector('#df-b8cf7e47-beee-4c79-bcf4-296f2975836d');\n",
              "          const dataTable =\n",
              "            await google.colab.kernel.invokeFunction('convertToInteractive',\n",
              "                                                     [key], {});\n",
              "          if (!dataTable) return;\n",
              "\n",
              "          const docLinkHtml = 'Like what you see? Visit the ' +\n",
              "            '<a target=\"_blank\" href=https://colab.research.google.com/notebooks/data_table.ipynb>data table notebook</a>'\n",
              "            + ' to learn more about interactive tables.';\n",
              "          element.innerHTML = '';\n",
              "          dataTable['output_type'] = 'display_data';\n",
              "          await google.colab.output.renderOutput(dataTable, element);\n",
              "          const docLink = document.createElement('div');\n",
              "          docLink.innerHTML = docLinkHtml;\n",
              "          element.appendChild(docLink);\n",
              "        }\n",
              "      </script>\n",
              "    </div>\n",
              "  </div>\n",
              "  "
            ],
            "text/plain": [
              "        ID    Gene             Variation  Class\n",
              "0        0  FAM58A  Truncating Mutations      1\n",
              "1        1     CBL                 W802*      2\n",
              "2        2     CBL                 Q249E      2\n",
              "3        3     CBL                 N454D      3\n",
              "4        4     CBL                 L399V      4\n",
              "...    ...     ...                   ...    ...\n",
              "3316  3316   RUNX1                 D171N      4\n",
              "3317  3317   RUNX1                 A122*      1\n",
              "3318  3318   RUNX1               Fusions      1\n",
              "3319  3319   RUNX1                  R80C      4\n",
              "3320  3320   RUNX1                  K83E      4\n",
              "\n",
              "[3321 rows x 4 columns]"
            ]
          },
          "metadata": {},
          "execution_count": 144
        }
      ],
      "source": [
        "#Grouping the train dataset by genes\n",
        "dataset_group = train_dataset.groupby(by=\"Gene\")\n",
        "dataset_group.count()\n",
        "\n",
        "train_dataset"
      ]
    },
    {
      "cell_type": "code",
      "execution_count": 145,
      "metadata": {
        "colab": {
          "base_uri": "https://localhost:8080/",
          "height": 206
        },
        "id": "Fy5IAUXlbaR_",
        "outputId": "2ffafcad-136d-487f-e422-f3c9deb1aa20"
      },
      "outputs": [
        {
          "output_type": "execute_result",
          "data": {
            "text/html": [
              "\n",
              "  <div id=\"df-b9109b65-80bf-4ac0-8106-3fcbc299f6a2\">\n",
              "    <div class=\"colab-df-container\">\n",
              "      <div>\n",
              "<style scoped>\n",
              "    .dataframe tbody tr th:only-of-type {\n",
              "        vertical-align: middle;\n",
              "    }\n",
              "\n",
              "    .dataframe tbody tr th {\n",
              "        vertical-align: top;\n",
              "    }\n",
              "\n",
              "    .dataframe thead th {\n",
              "        text-align: right;\n",
              "    }\n",
              "</style>\n",
              "<table border=\"1\" class=\"dataframe\">\n",
              "  <thead>\n",
              "    <tr style=\"text-align: right;\">\n",
              "      <th></th>\n",
              "      <th>ID</th>\n",
              "      <th>Gene</th>\n",
              "      <th>Variation</th>\n",
              "      <th>Class</th>\n",
              "      <th>TEXT</th>\n",
              "    </tr>\n",
              "  </thead>\n",
              "  <tbody>\n",
              "    <tr>\n",
              "      <th>0</th>\n",
              "      <td>0</td>\n",
              "      <td>FAM58A</td>\n",
              "      <td>Truncating Mutations</td>\n",
              "      <td>1</td>\n",
              "      <td>Cyclin-dependent kinases (CDKs) regulate a var...</td>\n",
              "    </tr>\n",
              "    <tr>\n",
              "      <th>1</th>\n",
              "      <td>1</td>\n",
              "      <td>CBL</td>\n",
              "      <td>W802*</td>\n",
              "      <td>2</td>\n",
              "      <td>Abstract Background  Non-small cell lung canc...</td>\n",
              "    </tr>\n",
              "    <tr>\n",
              "      <th>2</th>\n",
              "      <td>2</td>\n",
              "      <td>CBL</td>\n",
              "      <td>Q249E</td>\n",
              "      <td>2</td>\n",
              "      <td>Abstract Background  Non-small cell lung canc...</td>\n",
              "    </tr>\n",
              "    <tr>\n",
              "      <th>3</th>\n",
              "      <td>3</td>\n",
              "      <td>CBL</td>\n",
              "      <td>N454D</td>\n",
              "      <td>3</td>\n",
              "      <td>Recent evidence has demonstrated that acquired...</td>\n",
              "    </tr>\n",
              "    <tr>\n",
              "      <th>4</th>\n",
              "      <td>4</td>\n",
              "      <td>CBL</td>\n",
              "      <td>L399V</td>\n",
              "      <td>4</td>\n",
              "      <td>Oncogenic mutations in the monomeric Casitas B...</td>\n",
              "    </tr>\n",
              "  </tbody>\n",
              "</table>\n",
              "</div>\n",
              "      <button class=\"colab-df-convert\" onclick=\"convertToInteractive('df-b9109b65-80bf-4ac0-8106-3fcbc299f6a2')\"\n",
              "              title=\"Convert this dataframe to an interactive table.\"\n",
              "              style=\"display:none;\">\n",
              "        \n",
              "  <svg xmlns=\"http://www.w3.org/2000/svg\" height=\"24px\"viewBox=\"0 0 24 24\"\n",
              "       width=\"24px\">\n",
              "    <path d=\"M0 0h24v24H0V0z\" fill=\"none\"/>\n",
              "    <path d=\"M18.56 5.44l.94 2.06.94-2.06 2.06-.94-2.06-.94-.94-2.06-.94 2.06-2.06.94zm-11 1L8.5 8.5l.94-2.06 2.06-.94-2.06-.94L8.5 2.5l-.94 2.06-2.06.94zm10 10l.94 2.06.94-2.06 2.06-.94-2.06-.94-.94-2.06-.94 2.06-2.06.94z\"/><path d=\"M17.41 7.96l-1.37-1.37c-.4-.4-.92-.59-1.43-.59-.52 0-1.04.2-1.43.59L10.3 9.45l-7.72 7.72c-.78.78-.78 2.05 0 2.83L4 21.41c.39.39.9.59 1.41.59.51 0 1.02-.2 1.41-.59l7.78-7.78 2.81-2.81c.8-.78.8-2.07 0-2.86zM5.41 20L4 18.59l7.72-7.72 1.47 1.35L5.41 20z\"/>\n",
              "  </svg>\n",
              "      </button>\n",
              "      \n",
              "  <style>\n",
              "    .colab-df-container {\n",
              "      display:flex;\n",
              "      flex-wrap:wrap;\n",
              "      gap: 12px;\n",
              "    }\n",
              "\n",
              "    .colab-df-convert {\n",
              "      background-color: #E8F0FE;\n",
              "      border: none;\n",
              "      border-radius: 50%;\n",
              "      cursor: pointer;\n",
              "      display: none;\n",
              "      fill: #1967D2;\n",
              "      height: 32px;\n",
              "      padding: 0 0 0 0;\n",
              "      width: 32px;\n",
              "    }\n",
              "\n",
              "    .colab-df-convert:hover {\n",
              "      background-color: #E2EBFA;\n",
              "      box-shadow: 0px 1px 2px rgba(60, 64, 67, 0.3), 0px 1px 3px 1px rgba(60, 64, 67, 0.15);\n",
              "      fill: #174EA6;\n",
              "    }\n",
              "\n",
              "    [theme=dark] .colab-df-convert {\n",
              "      background-color: #3B4455;\n",
              "      fill: #D2E3FC;\n",
              "    }\n",
              "\n",
              "    [theme=dark] .colab-df-convert:hover {\n",
              "      background-color: #434B5C;\n",
              "      box-shadow: 0px 1px 3px 1px rgba(0, 0, 0, 0.15);\n",
              "      filter: drop-shadow(0px 1px 2px rgba(0, 0, 0, 0.3));\n",
              "      fill: #FFFFFF;\n",
              "    }\n",
              "  </style>\n",
              "\n",
              "      <script>\n",
              "        const buttonEl =\n",
              "          document.querySelector('#df-b9109b65-80bf-4ac0-8106-3fcbc299f6a2 button.colab-df-convert');\n",
              "        buttonEl.style.display =\n",
              "          google.colab.kernel.accessAllowed ? 'block' : 'none';\n",
              "\n",
              "        async function convertToInteractive(key) {\n",
              "          const element = document.querySelector('#df-b9109b65-80bf-4ac0-8106-3fcbc299f6a2');\n",
              "          const dataTable =\n",
              "            await google.colab.kernel.invokeFunction('convertToInteractive',\n",
              "                                                     [key], {});\n",
              "          if (!dataTable) return;\n",
              "\n",
              "          const docLinkHtml = 'Like what you see? Visit the ' +\n",
              "            '<a target=\"_blank\" href=https://colab.research.google.com/notebooks/data_table.ipynb>data table notebook</a>'\n",
              "            + ' to learn more about interactive tables.';\n",
              "          element.innerHTML = '';\n",
              "          dataTable['output_type'] = 'display_data';\n",
              "          await google.colab.output.renderOutput(dataTable, element);\n",
              "          const docLink = document.createElement('div');\n",
              "          docLink.innerHTML = docLinkHtml;\n",
              "          element.appendChild(docLink);\n",
              "        }\n",
              "      </script>\n",
              "    </div>\n",
              "  </div>\n",
              "  "
            ],
            "text/plain": [
              "   ID    Gene  ... Class                                               TEXT\n",
              "0   0  FAM58A  ...     1  Cyclin-dependent kinases (CDKs) regulate a var...\n",
              "1   1     CBL  ...     2   Abstract Background  Non-small cell lung canc...\n",
              "2   2     CBL  ...     2   Abstract Background  Non-small cell lung canc...\n",
              "3   3     CBL  ...     3  Recent evidence has demonstrated that acquired...\n",
              "4   4     CBL  ...     4  Oncogenic mutations in the monomeric Casitas B...\n",
              "\n",
              "[5 rows x 5 columns]"
            ]
          },
          "metadata": {},
          "execution_count": 145
        }
      ],
      "source": [
        "#merging the train_dataset and text_file on ID Column to final_dataset\n",
        "final_dataset = pd.merge(train_dataset, text_file,on='ID', how='left')\n",
        "final_dataset.head()"
      ]
    },
    {
      "cell_type": "code",
      "execution_count": 146,
      "metadata": {
        "id": "WmFhDCiPbaSA"
      },
      "outputs": [],
      "source": [
        "final_dataset.Variation = final_dataset.Variation.str.replace(' ','_')"
      ]
    },
    {
      "cell_type": "code",
      "execution_count": 147,
      "metadata": {
        "colab": {
          "base_uri": "https://localhost:8080/",
          "height": 455
        },
        "id": "5gno27s5baSA",
        "outputId": "f1d67663-2f86-4efc-9474-16e555363629"
      },
      "outputs": [
        {
          "output_type": "execute_result",
          "data": {
            "text/html": [
              "\n",
              "  <div id=\"df-33752580-8098-454b-bf9c-977f50f049a2\">\n",
              "    <div class=\"colab-df-container\">\n",
              "      <div>\n",
              "<style scoped>\n",
              "    .dataframe tbody tr th:only-of-type {\n",
              "        vertical-align: middle;\n",
              "    }\n",
              "\n",
              "    .dataframe tbody tr th {\n",
              "        vertical-align: top;\n",
              "    }\n",
              "\n",
              "    .dataframe thead th {\n",
              "        text-align: right;\n",
              "    }\n",
              "</style>\n",
              "<table border=\"1\" class=\"dataframe\">\n",
              "  <thead>\n",
              "    <tr style=\"text-align: right;\">\n",
              "      <th></th>\n",
              "      <th>ID</th>\n",
              "      <th>Gene</th>\n",
              "      <th>Class</th>\n",
              "    </tr>\n",
              "    <tr>\n",
              "      <th>Variation</th>\n",
              "      <th></th>\n",
              "      <th></th>\n",
              "      <th></th>\n",
              "    </tr>\n",
              "  </thead>\n",
              "  <tbody>\n",
              "    <tr>\n",
              "      <th>1_2009trunc</th>\n",
              "      <td>1</td>\n",
              "      <td>1</td>\n",
              "      <td>1</td>\n",
              "    </tr>\n",
              "    <tr>\n",
              "      <th>2010_2471trunc</th>\n",
              "      <td>1</td>\n",
              "      <td>1</td>\n",
              "      <td>1</td>\n",
              "    </tr>\n",
              "    <tr>\n",
              "      <th>256_286trunc</th>\n",
              "      <td>1</td>\n",
              "      <td>1</td>\n",
              "      <td>1</td>\n",
              "    </tr>\n",
              "    <tr>\n",
              "      <th>3' Deletion</th>\n",
              "      <td>1</td>\n",
              "      <td>1</td>\n",
              "      <td>1</td>\n",
              "    </tr>\n",
              "    <tr>\n",
              "      <th>385_418del</th>\n",
              "      <td>1</td>\n",
              "      <td>1</td>\n",
              "      <td>1</td>\n",
              "    </tr>\n",
              "    <tr>\n",
              "      <th>...</th>\n",
              "      <td>...</td>\n",
              "      <td>...</td>\n",
              "      <td>...</td>\n",
              "    </tr>\n",
              "    <tr>\n",
              "      <th>YAP1-FAM118B Fusion</th>\n",
              "      <td>1</td>\n",
              "      <td>1</td>\n",
              "      <td>1</td>\n",
              "    </tr>\n",
              "    <tr>\n",
              "      <th>YAP1-MAMLD1 Fusion</th>\n",
              "      <td>1</td>\n",
              "      <td>1</td>\n",
              "      <td>1</td>\n",
              "    </tr>\n",
              "    <tr>\n",
              "      <th>ZC3H7B-BCOR Fusion</th>\n",
              "      <td>1</td>\n",
              "      <td>1</td>\n",
              "      <td>1</td>\n",
              "    </tr>\n",
              "    <tr>\n",
              "      <th>ZNF198-FGFR1 Fusion</th>\n",
              "      <td>1</td>\n",
              "      <td>1</td>\n",
              "      <td>1</td>\n",
              "    </tr>\n",
              "    <tr>\n",
              "      <th>p61BRAF</th>\n",
              "      <td>1</td>\n",
              "      <td>1</td>\n",
              "      <td>1</td>\n",
              "    </tr>\n",
              "  </tbody>\n",
              "</table>\n",
              "<p>2996 rows × 3 columns</p>\n",
              "</div>\n",
              "      <button class=\"colab-df-convert\" onclick=\"convertToInteractive('df-33752580-8098-454b-bf9c-977f50f049a2')\"\n",
              "              title=\"Convert this dataframe to an interactive table.\"\n",
              "              style=\"display:none;\">\n",
              "        \n",
              "  <svg xmlns=\"http://www.w3.org/2000/svg\" height=\"24px\"viewBox=\"0 0 24 24\"\n",
              "       width=\"24px\">\n",
              "    <path d=\"M0 0h24v24H0V0z\" fill=\"none\"/>\n",
              "    <path d=\"M18.56 5.44l.94 2.06.94-2.06 2.06-.94-2.06-.94-.94-2.06-.94 2.06-2.06.94zm-11 1L8.5 8.5l.94-2.06 2.06-.94-2.06-.94L8.5 2.5l-.94 2.06-2.06.94zm10 10l.94 2.06.94-2.06 2.06-.94-2.06-.94-.94-2.06-.94 2.06-2.06.94z\"/><path d=\"M17.41 7.96l-1.37-1.37c-.4-.4-.92-.59-1.43-.59-.52 0-1.04.2-1.43.59L10.3 9.45l-7.72 7.72c-.78.78-.78 2.05 0 2.83L4 21.41c.39.39.9.59 1.41.59.51 0 1.02-.2 1.41-.59l7.78-7.78 2.81-2.81c.8-.78.8-2.07 0-2.86zM5.41 20L4 18.59l7.72-7.72 1.47 1.35L5.41 20z\"/>\n",
              "  </svg>\n",
              "      </button>\n",
              "      \n",
              "  <style>\n",
              "    .colab-df-container {\n",
              "      display:flex;\n",
              "      flex-wrap:wrap;\n",
              "      gap: 12px;\n",
              "    }\n",
              "\n",
              "    .colab-df-convert {\n",
              "      background-color: #E8F0FE;\n",
              "      border: none;\n",
              "      border-radius: 50%;\n",
              "      cursor: pointer;\n",
              "      display: none;\n",
              "      fill: #1967D2;\n",
              "      height: 32px;\n",
              "      padding: 0 0 0 0;\n",
              "      width: 32px;\n",
              "    }\n",
              "\n",
              "    .colab-df-convert:hover {\n",
              "      background-color: #E2EBFA;\n",
              "      box-shadow: 0px 1px 2px rgba(60, 64, 67, 0.3), 0px 1px 3px 1px rgba(60, 64, 67, 0.15);\n",
              "      fill: #174EA6;\n",
              "    }\n",
              "\n",
              "    [theme=dark] .colab-df-convert {\n",
              "      background-color: #3B4455;\n",
              "      fill: #D2E3FC;\n",
              "    }\n",
              "\n",
              "    [theme=dark] .colab-df-convert:hover {\n",
              "      background-color: #434B5C;\n",
              "      box-shadow: 0px 1px 3px 1px rgba(0, 0, 0, 0.15);\n",
              "      filter: drop-shadow(0px 1px 2px rgba(0, 0, 0, 0.3));\n",
              "      fill: #FFFFFF;\n",
              "    }\n",
              "  </style>\n",
              "\n",
              "      <script>\n",
              "        const buttonEl =\n",
              "          document.querySelector('#df-33752580-8098-454b-bf9c-977f50f049a2 button.colab-df-convert');\n",
              "        buttonEl.style.display =\n",
              "          google.colab.kernel.accessAllowed ? 'block' : 'none';\n",
              "\n",
              "        async function convertToInteractive(key) {\n",
              "          const element = document.querySelector('#df-33752580-8098-454b-bf9c-977f50f049a2');\n",
              "          const dataTable =\n",
              "            await google.colab.kernel.invokeFunction('convertToInteractive',\n",
              "                                                     [key], {});\n",
              "          if (!dataTable) return;\n",
              "\n",
              "          const docLinkHtml = 'Like what you see? Visit the ' +\n",
              "            '<a target=\"_blank\" href=https://colab.research.google.com/notebooks/data_table.ipynb>data table notebook</a>'\n",
              "            + ' to learn more about interactive tables.';\n",
              "          element.innerHTML = '';\n",
              "          dataTable['output_type'] = 'display_data';\n",
              "          await google.colab.output.renderOutput(dataTable, element);\n",
              "          const docLink = document.createElement('div');\n",
              "          docLink.innerHTML = docLinkHtml;\n",
              "          element.appendChild(docLink);\n",
              "        }\n",
              "      </script>\n",
              "    </div>\n",
              "  </div>\n",
              "  "
            ],
            "text/plain": [
              "                     ID  Gene  Class\n",
              "Variation                           \n",
              "1_2009trunc           1     1      1\n",
              "2010_2471trunc        1     1      1\n",
              "256_286trunc          1     1      1\n",
              "3' Deletion           1     1      1\n",
              "385_418del            1     1      1\n",
              "...                  ..   ...    ...\n",
              "YAP1-FAM118B Fusion   1     1      1\n",
              "YAP1-MAMLD1 Fusion    1     1      1\n",
              "ZC3H7B-BCOR Fusion    1     1      1\n",
              "ZNF198-FGFR1 Fusion   1     1      1\n",
              "p61BRAF               1     1      1\n",
              "\n",
              "[2996 rows x 3 columns]"
            ]
          },
          "metadata": {},
          "execution_count": 147
        }
      ],
      "source": [
        "# grouping the train_dataset by Variation column and storing it in dataset_group_v\n",
        "final_dataset.Variation \n",
        "\n",
        "dataset_group_v = train_dataset.groupby(by=\"Variation\")\n",
        "dataset_group_v.count()"
      ]
    },
    {
      "cell_type": "code",
      "execution_count": 148,
      "metadata": {
        "colab": {
          "base_uri": "https://localhost:8080/",
          "height": 206
        },
        "id": "TDeBKD0wbaSB",
        "outputId": "154149c0-9124-41be-a91b-982b3b284569"
      },
      "outputs": [
        {
          "output_type": "execute_result",
          "data": {
            "text/html": [
              "\n",
              "  <div id=\"df-d243c2a3-8871-4522-b523-459c93421697\">\n",
              "    <div class=\"colab-df-container\">\n",
              "      <div>\n",
              "<style scoped>\n",
              "    .dataframe tbody tr th:only-of-type {\n",
              "        vertical-align: middle;\n",
              "    }\n",
              "\n",
              "    .dataframe tbody tr th {\n",
              "        vertical-align: top;\n",
              "    }\n",
              "\n",
              "    .dataframe thead th {\n",
              "        text-align: right;\n",
              "    }\n",
              "</style>\n",
              "<table border=\"1\" class=\"dataframe\">\n",
              "  <thead>\n",
              "    <tr style=\"text-align: right;\">\n",
              "      <th></th>\n",
              "      <th>ID</th>\n",
              "      <th>Gene</th>\n",
              "      <th>Variation</th>\n",
              "      <th>Class</th>\n",
              "      <th>TEXT</th>\n",
              "    </tr>\n",
              "  </thead>\n",
              "  <tbody>\n",
              "    <tr>\n",
              "      <th>0</th>\n",
              "      <td>0</td>\n",
              "      <td>FAM58A</td>\n",
              "      <td>Truncating_Mutations</td>\n",
              "      <td>1</td>\n",
              "      <td>Cyclin-dependent kinases (CDKs) regulate a var...</td>\n",
              "    </tr>\n",
              "    <tr>\n",
              "      <th>1</th>\n",
              "      <td>1</td>\n",
              "      <td>CBL</td>\n",
              "      <td>W802*</td>\n",
              "      <td>2</td>\n",
              "      <td>Abstract Background  Non-small cell lung canc...</td>\n",
              "    </tr>\n",
              "    <tr>\n",
              "      <th>2</th>\n",
              "      <td>2</td>\n",
              "      <td>CBL</td>\n",
              "      <td>Q249E</td>\n",
              "      <td>2</td>\n",
              "      <td>Abstract Background  Non-small cell lung canc...</td>\n",
              "    </tr>\n",
              "    <tr>\n",
              "      <th>3</th>\n",
              "      <td>3</td>\n",
              "      <td>CBL</td>\n",
              "      <td>N454D</td>\n",
              "      <td>3</td>\n",
              "      <td>Recent evidence has demonstrated that acquired...</td>\n",
              "    </tr>\n",
              "    <tr>\n",
              "      <th>4</th>\n",
              "      <td>4</td>\n",
              "      <td>CBL</td>\n",
              "      <td>L399V</td>\n",
              "      <td>4</td>\n",
              "      <td>Oncogenic mutations in the monomeric Casitas B...</td>\n",
              "    </tr>\n",
              "  </tbody>\n",
              "</table>\n",
              "</div>\n",
              "      <button class=\"colab-df-convert\" onclick=\"convertToInteractive('df-d243c2a3-8871-4522-b523-459c93421697')\"\n",
              "              title=\"Convert this dataframe to an interactive table.\"\n",
              "              style=\"display:none;\">\n",
              "        \n",
              "  <svg xmlns=\"http://www.w3.org/2000/svg\" height=\"24px\"viewBox=\"0 0 24 24\"\n",
              "       width=\"24px\">\n",
              "    <path d=\"M0 0h24v24H0V0z\" fill=\"none\"/>\n",
              "    <path d=\"M18.56 5.44l.94 2.06.94-2.06 2.06-.94-2.06-.94-.94-2.06-.94 2.06-2.06.94zm-11 1L8.5 8.5l.94-2.06 2.06-.94-2.06-.94L8.5 2.5l-.94 2.06-2.06.94zm10 10l.94 2.06.94-2.06 2.06-.94-2.06-.94-.94-2.06-.94 2.06-2.06.94z\"/><path d=\"M17.41 7.96l-1.37-1.37c-.4-.4-.92-.59-1.43-.59-.52 0-1.04.2-1.43.59L10.3 9.45l-7.72 7.72c-.78.78-.78 2.05 0 2.83L4 21.41c.39.39.9.59 1.41.59.51 0 1.02-.2 1.41-.59l7.78-7.78 2.81-2.81c.8-.78.8-2.07 0-2.86zM5.41 20L4 18.59l7.72-7.72 1.47 1.35L5.41 20z\"/>\n",
              "  </svg>\n",
              "      </button>\n",
              "      \n",
              "  <style>\n",
              "    .colab-df-container {\n",
              "      display:flex;\n",
              "      flex-wrap:wrap;\n",
              "      gap: 12px;\n",
              "    }\n",
              "\n",
              "    .colab-df-convert {\n",
              "      background-color: #E8F0FE;\n",
              "      border: none;\n",
              "      border-radius: 50%;\n",
              "      cursor: pointer;\n",
              "      display: none;\n",
              "      fill: #1967D2;\n",
              "      height: 32px;\n",
              "      padding: 0 0 0 0;\n",
              "      width: 32px;\n",
              "    }\n",
              "\n",
              "    .colab-df-convert:hover {\n",
              "      background-color: #E2EBFA;\n",
              "      box-shadow: 0px 1px 2px rgba(60, 64, 67, 0.3), 0px 1px 3px 1px rgba(60, 64, 67, 0.15);\n",
              "      fill: #174EA6;\n",
              "    }\n",
              "\n",
              "    [theme=dark] .colab-df-convert {\n",
              "      background-color: #3B4455;\n",
              "      fill: #D2E3FC;\n",
              "    }\n",
              "\n",
              "    [theme=dark] .colab-df-convert:hover {\n",
              "      background-color: #434B5C;\n",
              "      box-shadow: 0px 1px 3px 1px rgba(0, 0, 0, 0.15);\n",
              "      filter: drop-shadow(0px 1px 2px rgba(0, 0, 0, 0.3));\n",
              "      fill: #FFFFFF;\n",
              "    }\n",
              "  </style>\n",
              "\n",
              "      <script>\n",
              "        const buttonEl =\n",
              "          document.querySelector('#df-d243c2a3-8871-4522-b523-459c93421697 button.colab-df-convert');\n",
              "        buttonEl.style.display =\n",
              "          google.colab.kernel.accessAllowed ? 'block' : 'none';\n",
              "\n",
              "        async function convertToInteractive(key) {\n",
              "          const element = document.querySelector('#df-d243c2a3-8871-4522-b523-459c93421697');\n",
              "          const dataTable =\n",
              "            await google.colab.kernel.invokeFunction('convertToInteractive',\n",
              "                                                     [key], {});\n",
              "          if (!dataTable) return;\n",
              "\n",
              "          const docLinkHtml = 'Like what you see? Visit the ' +\n",
              "            '<a target=\"_blank\" href=https://colab.research.google.com/notebooks/data_table.ipynb>data table notebook</a>'\n",
              "            + ' to learn more about interactive tables.';\n",
              "          element.innerHTML = '';\n",
              "          dataTable['output_type'] = 'display_data';\n",
              "          await google.colab.output.renderOutput(dataTable, element);\n",
              "          const docLink = document.createElement('div');\n",
              "          docLink.innerHTML = docLinkHtml;\n",
              "          element.appendChild(docLink);\n",
              "        }\n",
              "      </script>\n",
              "    </div>\n",
              "  </div>\n",
              "  "
            ],
            "text/plain": [
              "   ID    Gene  ... Class                                               TEXT\n",
              "0   0  FAM58A  ...     1  Cyclin-dependent kinases (CDKs) regulate a var...\n",
              "1   1     CBL  ...     2   Abstract Background  Non-small cell lung canc...\n",
              "2   2     CBL  ...     2   Abstract Background  Non-small cell lung canc...\n",
              "3   3     CBL  ...     3  Recent evidence has demonstrated that acquired...\n",
              "4   4     CBL  ...     4  Oncogenic mutations in the monomeric Casitas B...\n",
              "\n",
              "[5 rows x 5 columns]"
            ]
          },
          "metadata": {},
          "execution_count": 148
        }
      ],
      "source": [
        "final_dataset.loc[final_dataset['TEXT'].isnull(),'TEXT'] = final_dataset['Gene'] +' '+final_dataset['Variation']\n",
        "\n",
        "\n",
        "final_dataset.head()"
      ]
    },
    {
      "cell_type": "code",
      "execution_count": 149,
      "metadata": {
        "scrolled": true,
        "colab": {
          "base_uri": "https://localhost:8080/",
          "height": 318
        },
        "id": "fXr64Q4KbaSB",
        "outputId": "0deb6b88-71e6-4897-d25b-7506d1c2409b"
      },
      "outputs": [
        {
          "output_type": "display_data",
          "data": {
            "image/png": "[encoded data removed]",
            "text/plain": [
              "<Figure size 432x288 with 1 Axes>"
            ]
          },
          "metadata": {
            "needs_background": "light"
          }
        }
      ],
      "source": [
        "df_gene_plot = dataset_group.count().sort_values(by='Gene',ascending=False).head(10).plot(kind='bar',color = ['k', 'y', 'b', 'r', 'g'], y ='Class', ylabel = 'Frequency',stacked = True)"
      ]
    },
    {
      "cell_type": "code",
      "execution_count": 150,
      "metadata": {
        "colab": {
          "base_uri": "https://localhost:8080/",
          "height": 374
        },
        "id": "16RscalkEZdC",
        "outputId": "b004c110-9342-47ca-f3ee-c72bf934b5b4"
      },
      "outputs": [
        {
          "output_type": "display_data",
          "data": {
            "image/png": "[encoded data removed]",
            "text/plain": [
              "<Figure size 432x288 with 1 Axes>"
            ]
          },
          "metadata": {
            "needs_background": "light"
          }
        }
      ],
      "source": [
        "#plotting of gene frequency in train_dataset\n",
        "df_gene_plot = dataset_group_v.count().sort_values(by='ID',ascending=False).head(10).plot(kind='bar',color = ['k', 'y', 'b', 'r', 'g'], y ='ID', ylabel = 'Frequency')"
      ]
    },
    {
      "cell_type": "code",
      "execution_count": 151,
      "metadata": {
        "colab": {
          "base_uri": "https://localhost:8080/"
        },
        "id": "9wGhluXGbaSC",
        "outputId": "8e82e7e0-1511-4a36-fa5f-6ff8f419dc47"
      },
      "outputs": [
        {
          "output_type": "stream",
          "name": "stdout",
          "text": [
            "Number of Unique Genes : 264\n",
            "BRCA1     264\n",
            "TP53      163\n",
            "EGFR      141\n",
            "PTEN      126\n",
            "BRCA2     125\n",
            "KIT        99\n",
            "BRAF       93\n",
            "ERBB2      69\n",
            "ALK        69\n",
            "PDGFRA     60\n",
            "Name: Gene, dtype: int64\n"
          ]
        }
      ],
      "source": [
        "dataset_genes = final_dataset['Gene'].value_counts()\n",
        "print('Number of Unique Genes :', dataset_genes.shape[0])\n",
        "# the top 10 genes that occured\n",
        "print(dataset_genes.head(10))"
      ]
    },
    {
      "cell_type": "code",
      "execution_count": 152,
      "metadata": {
        "colab": {
          "base_uri": "https://localhost:8080/"
        },
        "id": "f3NLE4w0baSD",
        "outputId": "6b9a83e4-ef95-4c3f-a231-def6b8acac92"
      },
      "outputs": [
        {
          "output_type": "execute_result",
          "data": {
            "text/plain": [
              "(264,)"
            ]
          },
          "metadata": {},
          "execution_count": 152
        }
      ],
      "source": [
        "dataset_genes.shape"
      ]
    },
    {
      "cell_type": "code",
      "execution_count": 153,
      "metadata": {
        "colab": {
          "base_uri": "https://localhost:8080/",
          "height": 279
        },
        "id": "tx2ZOJrjbaSD",
        "outputId": "622949fd-fd35-41f6-92b0-fcf4b42f4940"
      },
      "outputs": [
        {
          "output_type": "display_data",
          "data": {
            "image/png": "[encoded data removed]",
            "text/plain": [
              "<Figure size 432x288 with 1 Axes>"
            ]
          },
          "metadata": {
            "needs_background": "light"
          }
        }
      ],
      "source": [
        "total_sum = sum(dataset_genes.values);\n",
        "preciselog = dataset_genes.values/total_sum;\n",
        "plt.plot(preciselog, label=\"Histrogram of Genes\")\n",
        "plt.xlabel('Type of  Gene')\n",
        "plt.ylabel('Count')\n",
        "plt.legend()\n",
        "plt.grid()\n",
        "plt.show()"
      ]
    },
    {
      "cell_type": "code",
      "execution_count": 154,
      "metadata": {
        "colab": {
          "base_uri": "https://localhost:8080/",
          "height": 265
        },
        "id": "0fZQtWTWbaSD",
        "outputId": "009b9901-a32e-40ac-ce23-8f3b0013575d"
      },
      "outputs": [
        {
          "output_type": "display_data",
          "data": {
            "image/png": "[encoded data removed]",
            "text/plain": [
              "<Figure size 432x288 with 1 Axes>"
            ]
          },
          "metadata": {
            "needs_background": "light"
          }
        }
      ],
      "source": [
        "cumulative_sum = np.cumsum(preciselog)\n",
        "plt.plot(cumulative_sum,label='Cumulative distribution of Genes')\n",
        "plt.grid()\n",
        "plt.legend()\n",
        "plt.show()"
      ]
    },
    {
      "cell_type": "code",
      "execution_count": 155,
      "metadata": {
        "colab": {
          "base_uri": "https://localhost:8080/"
        },
        "id": "Uq6uiEfWEm3P",
        "outputId": "ac0b52d9-d617-4dce-9378-c372360f1ea5"
      },
      "outputs": [
        {
          "output_type": "stream",
          "name": "stdout",
          "text": [
            "Unique Variations Count::::: 2996\n",
            "Truncating_Mutations    93\n",
            "Deletion                74\n",
            "Amplification           71\n",
            "Fusions                 34\n",
            "Overexpression           6\n",
            "G12V                     4\n",
            "Q61L                     3\n",
            "E17K                     3\n",
            "Q61R                     3\n",
            "T58I                     3\n",
            "Name: Variation, dtype: int64\n"
          ]
        }
      ],
      "source": [
        "dataset_variations = final_dataset['Variation'].value_counts()\n",
        "print('Unique Variations Count:::::', dataset_variations.shape[0])\n",
        "# the top 10 variations that occured most\n",
        "print(dataset_variations.head(10))"
      ]
    },
    {
      "cell_type": "code",
      "execution_count": 156,
      "metadata": {
        "colab": {
          "base_uri": "https://localhost:8080/"
        },
        "id": "W58xpSF4baSE",
        "outputId": "97e10f5f-bd29-47d0-ed73-25e0441e8715"
      },
      "outputs": [
        {
          "output_type": "stream",
          "name": "stdout",
          "text": [
            "   ID    Gene  ... Class                                               TEXT\n",
            "0   0  FAM58A  ...     1  Cyclin-dependent kinases (CDKs) regulate a var...\n",
            "1   1     CBL  ...     2   Abstract Background  Non-small cell lung canc...\n",
            "2   2     CBL  ...     2   Abstract Background  Non-small cell lung canc...\n",
            "3   3     CBL  ...     3  Recent evidence has demonstrated that acquired...\n",
            "4   4     CBL  ...     4  Oncogenic mutations in the monomeric Casitas B...\n",
            "\n",
            "[5 rows x 5 columns]\n",
            "(3321, 5)\n",
            "(3321, 5)\n",
            "ID           0\n",
            "Gene         0\n",
            "Variation    0\n",
            "Class        0\n",
            "TEXT         0\n",
            "dtype: int64\n",
            "ID           0\n",
            "Gene         0\n",
            "Variation    0\n",
            "dtype: int64\n"
          ]
        }
      ],
      "source": [
        "print(final_dataset.head())\n",
        "print(final_dataset.shape)\n",
        "print(final_dataset.shape)\n",
        "#checking if the final_datset contains any null values and storing it in train_m.\n",
        "train_m = final_dataset.isnull().sum()\n",
        "print(train_m)\n",
        "#checking if the test_dataset contains any null values and storing it in test_m.\n",
        "test_m = test_dataset.isnull().sum()\n",
        "print(test_m)\n",
        "#removing if any null null values are there in any row in final_dataset\n",
        "train_data = final_dataset.dropna(axis = 0, how = \"any\")\n",
        "test_data = final_dataset.dropna(axis = 0, how = \"any\")"
      ]
    },
    {
      "cell_type": "code",
      "execution_count": 157,
      "metadata": {
        "colab": {
          "base_uri": "https://localhost:8080/"
        },
        "id": "kL6iMXXRbaSE",
        "outputId": "ff6577b1-091f-46c3-efbd-994d7dda2f6e"
      },
      "outputs": [
        {
          "output_type": "stream",
          "name": "stdout",
          "text": [
            "        ID    Gene  ... Class                                               TEXT\n",
            "0        0  FAM58A  ...     1  Cyclin-dependent kinases (CDKs) regulate a var...\n",
            "1        1     CBL  ...     2   Abstract Background  Non-small cell lung canc...\n",
            "2        2     CBL  ...     2   Abstract Background  Non-small cell lung canc...\n",
            "3        3     CBL  ...     3  Recent evidence has demonstrated that acquired...\n",
            "4        4     CBL  ...     4  Oncogenic mutations in the monomeric Casitas B...\n",
            "...    ...     ...  ...   ...                                                ...\n",
            "3316  3316   RUNX1  ...     4  Introduction  Myelodysplastic syndromes (MDS) ...\n",
            "3317  3317   RUNX1  ...     1  Introduction  Myelodysplastic syndromes (MDS) ...\n",
            "3318  3318   RUNX1  ...     1  The Runt-related transcription factor 1 gene (...\n",
            "3319  3319   RUNX1  ...     4  The RUNX1/AML1 gene is the most frequent targe...\n",
            "3320  3320   RUNX1  ...     4  The most frequent mutations associated with le...\n",
            "\n",
            "[3321 rows x 5 columns]\n"
          ]
        }
      ],
      "source": [
        "print(train_data)"
      ]
    },
    {
      "cell_type": "code",
      "execution_count": 158,
      "metadata": {
        "colab": {
          "base_uri": "https://localhost:8080/"
        },
        "id": "OC7nxdEtbaSE",
        "outputId": "8f7a05b3-09e6-49e0-e453-1135abcc3019"
      },
      "outputs": [
        {
          "output_type": "stream",
          "name": "stdout",
          "text": [
            "        ID    Gene  ... Class                                               TEXT\n",
            "0        0  FAM58A  ...     1  Cyclin-dependent kinases (CDKs) regulate a var...\n",
            "1        1     CBL  ...     2   Abstract Background  Non-small cell lung canc...\n",
            "2        2     CBL  ...     2   Abstract Background  Non-small cell lung canc...\n",
            "3        3     CBL  ...     3  Recent evidence has demonstrated that acquired...\n",
            "4        4     CBL  ...     4  Oncogenic mutations in the monomeric Casitas B...\n",
            "...    ...     ...  ...   ...                                                ...\n",
            "3316  3316   RUNX1  ...     4  Introduction  Myelodysplastic syndromes (MDS) ...\n",
            "3317  3317   RUNX1  ...     1  Introduction  Myelodysplastic syndromes (MDS) ...\n",
            "3318  3318   RUNX1  ...     1  The Runt-related transcription factor 1 gene (...\n",
            "3319  3319   RUNX1  ...     4  The RUNX1/AML1 gene is the most frequent targe...\n",
            "3320  3320   RUNX1  ...     4  The most frequent mutations associated with le...\n",
            "\n",
            "[3321 rows x 5 columns]\n"
          ]
        }
      ],
      "source": [
        "print(test_data)"
      ]
    },
    {
      "cell_type": "code",
      "execution_count": 159,
      "metadata": {
        "id": "etv1L9GeEtIL",
        "colab": {
          "base_uri": "https://localhost:8080/"
        },
        "outputId": "3439a4f1-4972-41c8-8ade-61a5adc7108b"
      },
      "outputs": [
        {
          "output_type": "execute_result",
          "data": {
            "text/plain": [
              "array([1, 2, 3, 4, 5, 6, 7, 8, 9])"
            ]
          },
          "metadata": {},
          "execution_count": 159
        }
      ],
      "source": [
        "#printing all the unique classes in the train_data\n",
        "train_data[\"Class\"].unique()\n"
      ]
    },
    {
      "cell_type": "code",
      "execution_count": 160,
      "metadata": {
        "colab": {
          "base_uri": "https://localhost:8080/"
        },
        "id": "9SW80CXpbaSF",
        "outputId": "8990bc23-9838-4489-c3a1-92e13d3b5bfc"
      },
      "outputs": [
        {
          "output_type": "execute_result",
          "data": {
            "text/plain": [
              "array(['FAM58A', 'CBL', 'SHOC2', 'TERT', 'DICER1', 'PTPRT', 'RHEB',\n",
              "       'SHQ1', 'CCND2', 'RAD50', 'CCND3', 'RIT1', 'CCNE1', 'RYBP',\n",
              "       'TGFBR1', 'TGFBR2', 'MSH6', 'KMT2D', 'LATS1', 'PBRM1', 'SF3B1',\n",
              "       'LATS2', 'EGFR', 'NKX2-1', 'EIF1AX', 'ARID2', 'BRD4', 'HIST1H1C',\n",
              "       'ERRFI1', 'CHEK2', 'PAK1', 'TMPRSS2', 'H3F3A', 'ELF3', 'ROS1',\n",
              "       'ASXL2', 'CDH1', 'EPCAM', 'EP300', 'EPAS1', 'TP53', 'TP53BP1',\n",
              "       'SMAD2', 'SMAD3', 'SMAD4', 'CDK4', 'AURKB', 'CDK6', 'FBXW7',\n",
              "       'CDK8', 'CDKN1A', 'CDKN1B', 'CDKN2A', 'CDKN2B', 'CDKN2C', 'ASXL1',\n",
              "       'ERBB2', 'ERBB3', 'ERBB4', 'ERCC2', 'BRIP1', 'ERCC3', 'ERCC4',\n",
              "       'ABL1', 'CEBPA', 'ERG', 'HLA-A', 'HLA-B', 'PDGFRA', 'PDGFRB',\n",
              "       'RBM10', 'KDM5C', 'ESR1', 'ETV1', 'ETV6', 'TSC1', 'IKZF1', 'TSC2',\n",
              "       'EWSR1', 'ACVR1', 'FOXA1', 'MDM2', 'ARID1A', 'EZH2', 'MDM4',\n",
              "       'KLF4', 'RXRA', 'MAP3K1', 'AXIN1', 'BAP1', 'MEN1', 'FANCA',\n",
              "       'FANCC', 'MET', 'U2AF1', 'KMT2C', 'FAT1', 'ARID1B', 'PIK3CA',\n",
              "       'PIK3CB', 'PIM1', 'PIK3CD', 'YAP1', 'PIK3R1', 'PIK3R2', 'ARID5B',\n",
              "       'HRAS', 'MLH1', 'FGF3', 'FGF4', 'KMT2A', 'AKT1', 'AKT2', 'FGFR1',\n",
              "       'FGFR3', 'SPOP', 'FGFR2', 'FGFR4', 'KDM6A', 'ALK', 'SDHB',\n",
              "       'RAD54L', 'SDHC', 'VEGFA', 'MPL', 'PMS1', 'CARM1', 'FOXO1', 'VHL',\n",
              "       'MAP2K4', 'RRAS2', 'FLT1', 'FLT3', 'PMS2', 'SRSF2', 'WHSC1',\n",
              "       'PPM1D', 'POLE', 'KNSTRN', 'PIK3R3', 'APC', 'RICTOR', 'MSH2',\n",
              "       'IDH1', 'IDH2', 'XPO1', 'XRCC2', 'CREBBP', 'AR', 'ARAF', 'RHOA',\n",
              "       'NCOR1', 'PPP2R1A', 'SETD2', 'IGF1R', 'PPP6C', 'CTCF', 'IKBKE',\n",
              "       'MTOR', 'TET1', 'SMARCA4', 'SMARCB1', 'FOXP1', 'SMO', 'CARD11',\n",
              "       'MEF2B', 'CTLA4', 'ATM', 'NUP93', 'MAPK1', 'CTNNB1', 'MAP2K1',\n",
              "       'MAP2K2', 'STAG2', 'IL7R', 'SOS1', 'MYC', 'MYCN', 'SOX9', 'TET2',\n",
              "       'MYD88', 'AGO2', 'KMT2B', 'ATR', 'ATRX', 'CDK12', 'AXL', 'MYOD1',\n",
              "       'B2M', 'SRC', 'GATA3', 'BARD1', 'CCND1', 'BCL2', 'KEAP1', 'PTCH1',\n",
              "       'PTEN', 'BCOR', 'RNF43', 'CIC', 'INPP4B', 'STAT3', 'WHSC1L1',\n",
              "       'PRDM1', 'JAK1', 'JAK2', 'AURKA', 'STK11', 'JUN', 'PTPN11', 'NF1',\n",
              "       'FOXL2', 'PTPRD', 'BRCA1', 'BRAF', 'BRCA2', 'NF2', 'PAX8',\n",
              "       'NFE2L2', 'GLI1', 'FUBP1', 'BTK', 'NFKBIA', 'GNA11', 'KDR',\n",
              "       'BCL10', 'GNAQ', 'GNAS', 'MGA', 'KIT', 'FGF19', 'MED12', 'NOTCH1',\n",
              "       'NOTCH2', 'RAC1', 'DNMT3A', 'DNMT3B', 'RAD21', 'RAD51C', 'RAD51B',\n",
              "       'RAD51D', 'KRAS', 'NPM1', 'RAF1', 'RAB35', 'HNF1A', 'AKT3', 'TCF3',\n",
              "       'TCF7L2', 'RARA', 'NRAS', 'RASA1', 'BCL2L11', 'RB1', 'KDM5A',\n",
              "       'NTRK1', 'NTRK2', 'NTRK3', 'DUSP4', 'DDR2', 'NSD1', 'CASP8', 'RET',\n",
              "       'RUNX1'], dtype=object)"
            ]
          },
          "metadata": {},
          "execution_count": 160
        }
      ],
      "source": [
        "#printing all the unique genes in train_data\n",
        "train_data[\"Gene\"].unique()\n"
      ]
    },
    {
      "cell_type": "code",
      "execution_count": 161,
      "metadata": {
        "colab": {
          "base_uri": "https://localhost:8080/"
        },
        "id": "J9qOapOhEu2d",
        "outputId": "8203a27d-ed5b-4280-e84c-90bd260945dd"
      },
      "outputs": [
        {
          "output_type": "execute_result",
          "data": {
            "text/plain": [
              "array(['Truncating_Mutations', 'W802*', 'Q249E', ..., 'A122*', 'R80C',\n",
              "       'K83E'], dtype=object)"
            ]
          },
          "metadata": {},
          "execution_count": 161
        }
      ],
      "source": [
        "#all the unique variations in train_data\n",
        "train_data[\"Variation\"].unique()\n"
      ]
    },
    {
      "cell_type": "code",
      "execution_count": 162,
      "metadata": {
        "colab": {
          "base_uri": "https://localhost:8080/"
        },
        "id": "PrjobnuSE5zu",
        "outputId": "3f307df6-9ed9-4cd1-e3df-d1eb42c21bf9"
      },
      "outputs": [
        {
          "output_type": "execute_result",
          "data": {
            "text/plain": [
              "Truncating_Mutations    93\n",
              "Deletion                74\n",
              "Amplification           71\n",
              "Fusions                 34\n",
              "Overexpression           6\n",
              "                        ..\n",
              "C238S                    1\n",
              "L1951R                   1\n",
              "P691S                    1\n",
              "V356R                    1\n",
              "R306S                    1\n",
              "Name: Variation, Length: 2996, dtype: int64"
            ]
          },
          "metadata": {},
          "execution_count": 162
        }
      ],
      "source": [
        "#count of all the unique variations in train_data\n",
        "train_data[\"Variation\"].value_counts()"
      ]
    },
    {
      "cell_type": "markdown",
      "metadata": {
        "id": "T4J0zhQxLER6"
      },
      "source": [
        "GENE"
      ]
    },
    {
      "cell_type": "code",
      "execution_count": 163,
      "metadata": {
        "colab": {
          "base_uri": "https://localhost:8080/",
          "height": 283
        },
        "id": "J6iqj9ClKI7o",
        "outputId": "5071ce6b-5e13-4136-e393-20fec2f25452"
      },
      "outputs": [
        {
          "output_type": "display_data",
          "data": {
            "image/png": "[encoded data removed]",
            "text/plain": [
              "<Figure size 432x288 with 1 Axes>"
            ]
          },
          "metadata": {
            "needs_background": "light"
          }
        }
      ],
      "source": [
        "sns.countplot(x = train_data[\"Class\"])\n",
        "plt.show()"
      ]
    },
    {
      "cell_type": "code",
      "execution_count": 164,
      "metadata": {
        "colab": {
          "base_uri": "https://localhost:8080/"
        },
        "id": "L1nG7O3pKSQt",
        "outputId": "3d49fc18-e43d-470f-ce66-771c98b7316b"
      },
      "outputs": [
        {
          "output_type": "execute_result",
          "data": {
            "text/plain": [
              "Gene   Class\n",
              "ABL1   2        24\n",
              "       7         2\n",
              "ACVR1  7         2\n",
              "       2         1\n",
              "AGO2   1         4\n",
              "                ..\n",
              "XPO1   2         1\n",
              "       6         1\n",
              "XRCC2  1         2\n",
              "YAP1   2         3\n",
              "       7         1\n",
              "Name: Class, Length: 590, dtype: int64"
            ]
          },
          "metadata": {},
          "execution_count": 164
        }
      ],
      "source": [
        "#printing the count of each gene in each class \n",
        "train_data.groupby([\"Gene\"])[\"Class\"].value_counts()"
      ]
    },
    {
      "cell_type": "markdown",
      "metadata": {
        "id": "KGU9EdVDKT_Z"
      },
      "source": [
        "There are 264 different categories of genes in the train data, and they are distibuted as follows"
      ]
    },
    {
      "cell_type": "code",
      "execution_count": 165,
      "metadata": {
        "colab": {
          "base_uri": "https://localhost:8080/"
        },
        "id": "NF7dnEinKbLx",
        "outputId": "c62f5df9-cdd5-4068-972d-b594463717e6"
      },
      "outputs": [
        {
          "output_type": "execute_result",
          "data": {
            "text/plain": [
              "Variation            Class\n",
              "1_2009trunc          1        1\n",
              "2010_2471trunc       2        1\n",
              "256_286trunc         7        1\n",
              "3'_Deletion          4        1\n",
              "385_418del           4        1\n",
              "                             ..\n",
              "YAP1-FAM118B_Fusion  2        1\n",
              "YAP1-MAMLD1_Fusion   2        1\n",
              "ZC3H7B-BCOR_Fusion   8        1\n",
              "ZNF198-FGFR1_Fusion  7        1\n",
              "p61BRAF              7        1\n",
              "Name: Class, Length: 3032, dtype: int64"
            ]
          },
          "metadata": {},
          "execution_count": 165
        }
      ],
      "source": [
        "#printing the count of variation of each class.\n",
        "train_data.groupby([\"Variation\"])[\"Class\"].value_counts()"
      ]
    },
    {
      "cell_type": "code",
      "execution_count": 166,
      "metadata": {
        "id": "NTwpCECWKsu4"
      },
      "outputs": [],
      "source": [
        "str_data = train_data.select_dtypes(include = [\"object\"])"
      ]
    },
    {
      "cell_type": "markdown",
      "metadata": {
        "id": "zd3aHtrZLG5Z"
      },
      "source": [
        "VARIATION\n"
      ]
    },
    {
      "cell_type": "code",
      "execution_count": 167,
      "metadata": {
        "id": "C3UXJIOjLKHg"
      },
      "outputs": [],
      "source": [
        "my_data = train_data.select_dtypes(include = [\"object\"])\n",
        "my_data_type = test_data.select_dtypes(include = [\"object\"])\n",
        "my_integerdata = train_data.select_dtypes(include = [\"integer\", \"float\"])\n",
        "my_integerdata_test = test_data.select_dtypes(include = [\"integer\", \"float\"])"
      ]
    },
    {
      "cell_type": "markdown",
      "metadata": {
        "id": "bjyjPqk4LRWE"
      },
      "source": [
        "There are 2996 different categories of variations in the train data, and they are distibuted as follows"
      ]
    },
    {
      "cell_type": "code",
      "execution_count": 168,
      "metadata": {
        "colab": {
          "base_uri": "https://localhost:8080/",
          "height": 206
        },
        "id": "a14J5KmRLfje",
        "outputId": "ad348b96-b3a9-4e3f-d674-8041da6f1830"
      },
      "outputs": [
        {
          "output_type": "execute_result",
          "data": {
            "text/html": [
              "\n",
              "  <div id=\"df-9efaf465-00a9-41fc-9946-e0f7fac088b4\">\n",
              "    <div class=\"colab-df-container\">\n",
              "      <div>\n",
              "<style scoped>\n",
              "    .dataframe tbody tr th:only-of-type {\n",
              "        vertical-align: middle;\n",
              "    }\n",
              "\n",
              "    .dataframe tbody tr th {\n",
              "        vertical-align: top;\n",
              "    }\n",
              "\n",
              "    .dataframe thead th {\n",
              "        text-align: right;\n",
              "    }\n",
              "</style>\n",
              "<table border=\"1\" class=\"dataframe\">\n",
              "  <thead>\n",
              "    <tr style=\"text-align: right;\">\n",
              "      <th></th>\n",
              "      <th>Gene</th>\n",
              "      <th>Variation</th>\n",
              "      <th>TEXT</th>\n",
              "      <th>ID</th>\n",
              "      <th>Class</th>\n",
              "    </tr>\n",
              "  </thead>\n",
              "  <tbody>\n",
              "    <tr>\n",
              "      <th>0</th>\n",
              "      <td>85</td>\n",
              "      <td>2629</td>\n",
              "      <td>510</td>\n",
              "      <td>0</td>\n",
              "      <td>1</td>\n",
              "    </tr>\n",
              "    <tr>\n",
              "      <th>1</th>\n",
              "      <td>39</td>\n",
              "      <td>2856</td>\n",
              "      <td>88</td>\n",
              "      <td>1</td>\n",
              "      <td>2</td>\n",
              "    </tr>\n",
              "    <tr>\n",
              "      <th>2</th>\n",
              "      <td>39</td>\n",
              "      <td>1897</td>\n",
              "      <td>88</td>\n",
              "      <td>2</td>\n",
              "      <td>2</td>\n",
              "    </tr>\n",
              "    <tr>\n",
              "      <th>3</th>\n",
              "      <td>39</td>\n",
              "      <td>1667</td>\n",
              "      <td>1293</td>\n",
              "      <td>3</td>\n",
              "      <td>3</td>\n",
              "    </tr>\n",
              "    <tr>\n",
              "      <th>4</th>\n",
              "      <td>39</td>\n",
              "      <td>1447</td>\n",
              "      <td>1158</td>\n",
              "      <td>4</td>\n",
              "      <td>4</td>\n",
              "    </tr>\n",
              "  </tbody>\n",
              "</table>\n",
              "</div>\n",
              "      <button class=\"colab-df-convert\" onclick=\"convertToInteractive('df-9efaf465-00a9-41fc-9946-e0f7fac088b4')\"\n",
              "              title=\"Convert this dataframe to an interactive table.\"\n",
              "              style=\"display:none;\">\n",
              "        \n",
              "  <svg xmlns=\"http://www.w3.org/2000/svg\" height=\"24px\"viewBox=\"0 0 24 24\"\n",
              "       width=\"24px\">\n",
              "    <path d=\"M0 0h24v24H0V0z\" fill=\"none\"/>\n",
              "    <path d=\"M18.56 5.44l.94 2.06.94-2.06 2.06-.94-2.06-.94-.94-2.06-.94 2.06-2.06.94zm-11 1L8.5 8.5l.94-2.06 2.06-.94-2.06-.94L8.5 2.5l-.94 2.06-2.06.94zm10 10l.94 2.06.94-2.06 2.06-.94-2.06-.94-.94-2.06-.94 2.06-2.06.94z\"/><path d=\"M17.41 7.96l-1.37-1.37c-.4-.4-.92-.59-1.43-.59-.52 0-1.04.2-1.43.59L10.3 9.45l-7.72 7.72c-.78.78-.78 2.05 0 2.83L4 21.41c.39.39.9.59 1.41.59.51 0 1.02-.2 1.41-.59l7.78-7.78 2.81-2.81c.8-.78.8-2.07 0-2.86zM5.41 20L4 18.59l7.72-7.72 1.47 1.35L5.41 20z\"/>\n",
              "  </svg>\n",
              "      </button>\n",
              "      \n",
              "  <style>\n",
              "    .colab-df-container {\n",
              "      display:flex;\n",
              "      flex-wrap:wrap;\n",
              "      gap: 12px;\n",
              "    }\n",
              "\n",
              "    .colab-df-convert {\n",
              "      background-color: #E8F0FE;\n",
              "      border: none;\n",
              "      border-radius: 50%;\n",
              "      cursor: pointer;\n",
              "      display: none;\n",
              "      fill: #1967D2;\n",
              "      height: 32px;\n",
              "      padding: 0 0 0 0;\n",
              "      width: 32px;\n",
              "    }\n",
              "\n",
              "    .colab-df-convert:hover {\n",
              "      background-color: #E2EBFA;\n",
              "      box-shadow: 0px 1px 2px rgba(60, 64, 67, 0.3), 0px 1px 3px 1px rgba(60, 64, 67, 0.15);\n",
              "      fill: #174EA6;\n",
              "    }\n",
              "\n",
              "    [theme=dark] .colab-df-convert {\n",
              "      background-color: #3B4455;\n",
              "      fill: #D2E3FC;\n",
              "    }\n",
              "\n",
              "    [theme=dark] .colab-df-convert:hover {\n",
              "      background-color: #434B5C;\n",
              "      box-shadow: 0px 1px 3px 1px rgba(0, 0, 0, 0.15);\n",
              "      filter: drop-shadow(0px 1px 2px rgba(0, 0, 0, 0.3));\n",
              "      fill: #FFFFFF;\n",
              "    }\n",
              "  </style>\n",
              "\n",
              "      <script>\n",
              "        const buttonEl =\n",
              "          document.querySelector('#df-9efaf465-00a9-41fc-9946-e0f7fac088b4 button.colab-df-convert');\n",
              "        buttonEl.style.display =\n",
              "          google.colab.kernel.accessAllowed ? 'block' : 'none';\n",
              "\n",
              "        async function convertToInteractive(key) {\n",
              "          const element = document.querySelector('#df-9efaf465-00a9-41fc-9946-e0f7fac088b4');\n",
              "          const dataTable =\n",
              "            await google.colab.kernel.invokeFunction('convertToInteractive',\n",
              "                                                     [key], {});\n",
              "          if (!dataTable) return;\n",
              "\n",
              "          const docLinkHtml = 'Like what you see? Visit the ' +\n",
              "            '<a target=\"_blank\" href=https://colab.research.google.com/notebooks/data_table.ipynb>data table notebook</a>'\n",
              "            + ' to learn more about interactive tables.';\n",
              "          element.innerHTML = '';\n",
              "          dataTable['output_type'] = 'display_data';\n",
              "          await google.colab.output.renderOutput(dataTable, element);\n",
              "          const docLink = document.createElement('div');\n",
              "          docLink.innerHTML = docLinkHtml;\n",
              "          element.appendChild(docLink);\n",
              "        }\n",
              "      </script>\n",
              "    </div>\n",
              "  </div>\n",
              "  "
            ],
            "text/plain": [
              "   Gene  Variation  TEXT  ID  Class\n",
              "0    85       2629   510   0      1\n",
              "1    39       2856    88   1      2\n",
              "2    39       1897    88   2      2\n",
              "3    39       1667  1293   3      3\n",
              "4    39       1447  1158   4      4"
            ]
          },
          "metadata": {},
          "execution_count": 168
        }
      ],
      "source": [
        "#encoding all the columns into numbers using label encoding.\n",
        "from sklearn.preprocessing import LabelEncoder\n",
        "label = LabelEncoder()\n",
        "feature = my_data.apply(label.fit_transform)\n",
        "feature = feature.join(my_integerdata)\n",
        "feature.head()"
      ]
    },
    {
      "cell_type": "code",
      "execution_count": 169,
      "metadata": {
        "colab": {
          "base_uri": "https://localhost:8080/"
        },
        "id": "C8fxnU74LjzD",
        "outputId": "54675983-58df-4239-dab5-0d07fb5e07cc"
      },
      "outputs": [
        {
          "output_type": "stream",
          "name": "stdout",
          "text": [
            "   Gene  Variation  TEXT\n",
            "0    85       2629   510\n",
            "1    39       2856    88\n",
            "2    39       1897    88\n",
            "3    39       1667  1293\n",
            "4    39       1447  1158\n"
          ]
        }
      ],
      "source": [
        "y_train = feature[\"Class\"]\n",
        "y_train.head()\n",
        "x_train = feature.drop([\"Class\", \"ID\"] ,axis = 1)\n",
        "print(x_train.head())\n"
      ]
    },
    {
      "cell_type": "code",
      "execution_count": 170,
      "metadata": {
        "id": "e8iPPmM-baSI"
      },
      "outputs": [],
      "source": [
        "#splitting the model into train and test data\n",
        "from sklearn.model_selection import train_test_split\n",
        "\n",
        "x_train, x_test, y_train, y_test = train_test_split(x_train, y_train, test_size=0.2, random_state=0)\n"
      ]
    },
    {
      "cell_type": "code",
      "execution_count": 171,
      "metadata": {
        "colab": {
          "base_uri": "https://localhost:8080/"
        },
        "id": "KOkmo0faFEKD",
        "outputId": "c06fa3e4-3c73-4c9f-a452-6e431fa632a3"
      },
      "outputs": [
        {
          "output_type": "stream",
          "name": "stdout",
          "text": [
            "      Gene  Variation  TEXT\n",
            "2401   162       1975   192\n",
            "2088     2        149   363\n",
            "1686    98        149   214\n",
            "53     199       1674  1667\n",
            "1283   114       1931   422\n"
          ]
        }
      ],
      "source": [
        "#printing the  first five rows of x_train\n",
        "print(x_train.head())\n"
      ]
    },
    {
      "cell_type": "code",
      "execution_count": 172,
      "metadata": {
        "colab": {
          "base_uri": "https://localhost:8080/"
        },
        "id": "aBMHmnSTbaSJ",
        "outputId": "c33eaee0-e6a7-4288-8c08-44e9def4b3e4"
      },
      "outputs": [
        {
          "output_type": "stream",
          "name": "stdout",
          "text": [
            "2401    4\n",
            "2088    2\n",
            "1686    7\n",
            "53      1\n",
            "1283    2\n",
            "Name: Class, dtype: int64\n"
          ]
        }
      ],
      "source": [
        "print(y_train.head())"
      ]
    },
    {
      "cell_type": "code",
      "execution_count": 173,
      "metadata": {
        "colab": {
          "base_uri": "https://localhost:8080/"
        },
        "id": "pOgXjXaqbaSJ",
        "outputId": "837dc376-d328-41f7-e287-fd91bf1ac31a"
      },
      "outputs": [
        {
          "output_type": "stream",
          "name": "stdout",
          "text": [
            "        ID    Gene  ... Class                                               TEXT\n",
            "0        0  FAM58A  ...     1  Cyclin-dependent kinases (CDKs) regulate a var...\n",
            "1        1     CBL  ...     2   Abstract Background  Non-small cell lung canc...\n",
            "2        2     CBL  ...     2   Abstract Background  Non-small cell lung canc...\n",
            "3        3     CBL  ...     3  Recent evidence has demonstrated that acquired...\n",
            "4        4     CBL  ...     4  Oncogenic mutations in the monomeric Casitas B...\n",
            "...    ...     ...  ...   ...                                                ...\n",
            "3316  3316   RUNX1  ...     4  Introduction  Myelodysplastic syndromes (MDS) ...\n",
            "3317  3317   RUNX1  ...     1  Introduction  Myelodysplastic syndromes (MDS) ...\n",
            "3318  3318   RUNX1  ...     1  The Runt-related transcription factor 1 gene (...\n",
            "3319  3319   RUNX1  ...     4  The RUNX1/AML1 gene is the most frequent targe...\n",
            "3320  3320   RUNX1  ...     4  The most frequent mutations associated with le...\n",
            "\n",
            "[3321 rows x 5 columns]\n"
          ]
        }
      ],
      "source": [
        "print(train_data)\n"
      ]
    },
    {
      "cell_type": "code",
      "execution_count": 174,
      "metadata": {
        "id": "RvwIVjw4baSJ"
      },
      "outputs": [],
      "source": [
        "from sklearn.preprocessing import StandardScaler\n",
        "\n",
        "sc = StandardScaler()\n",
        "\n",
        "x_train = sc.fit_transform(x_train)\n",
        "x_test = sc.transform(x_test)\n",
        "\n"
      ]
    },
    {
      "cell_type": "code",
      "execution_count": 175,
      "metadata": {
        "id": "JwYolP5hbaSJ"
      },
      "outputs": [],
      "source": [
        "#LGBM Classifier\n",
        "import lightgbm\n",
        "from lightgbm import LGBMClassifier\n",
        "\n",
        "model_lgb = LGBMClassifier(random_state=0)\n",
        "model_lgb = model_lgb.fit(x_train, y_train)\n",
        "\n",
        "y_predicted_lgb = model_lgb.predict(x_test)  #prediction of validation data\n"
      ]
    },
    {
      "cell_type": "code",
      "execution_count": 176,
      "metadata": {
        "colab": {
          "base_uri": "https://localhost:8080/"
        },
        "id": "TYniO9clbaSJ",
        "outputId": "f1e1aa36-658a-4939-f7b3-0079c11c5769"
      },
      "outputs": [
        {
          "output_type": "stream",
          "name": "stdout",
          "text": [
            "Confusion Matrix\n",
            "\n",
            "[[ 65   1   0  21   6   4   6   0   0]\n",
            " [  2  36   1   4   1   1  47   0   0]\n",
            " [  1   0   4   8   3   0   8   0   0]\n",
            " [ 25   4   3  98   3   2   9   0   0]\n",
            " [ 10   5   1   7  23   2  12   0   0]\n",
            " [  5   4   0   5   2  27   8   0   0]\n",
            " [  6  25   2   4   3   3 140   0   0]\n",
            " [  0   1   0   0   0   0   0   1   0]\n",
            " [  0   0   0   0   0   0   1   1   4]]\n",
            "\n",
            "Accuracy: 0.60\n",
            "\n",
            "Micro Precision: 0.60\n",
            "Micro Recall: 0.60\n",
            "Micro F1-score: 0.60\n",
            "\n",
            "Macro Precision: 0.60\n",
            "Macro Recall: 0.52\n",
            "Macro F1-score: 0.55\n",
            "\n",
            "Weighted Precision: 0.59\n",
            "Weighted Recall: 0.60\n",
            "Weighted F1-score: 0.59\n",
            "\n",
            "Classification Report lightgbm\n",
            "\n",
            "              precision    recall  f1-score   support\n",
            "\n",
            "     Class 1       0.57      0.63      0.60       103\n",
            "     Class 2       0.47      0.39      0.43        92\n",
            "     Class 3       0.36      0.17      0.23        24\n",
            "     Class 4       0.67      0.68      0.67       144\n",
            "     Class 5       0.56      0.38      0.46        60\n",
            "     Class 6       0.69      0.53      0.60        51\n",
            "     Class 7       0.61      0.77      0.68       183\n",
            "     Class 8       0.50      0.50      0.50         2\n",
            "     Class 9       1.00      0.67      0.80         6\n",
            "\n",
            "    accuracy                           0.60       665\n",
            "   macro avg       0.60      0.52      0.55       665\n",
            "weighted avg       0.59      0.60      0.59       665\n",
            "\n"
          ]
        }
      ],
      "source": [
        "#calculating the Precision , Recall and F1 Score\n",
        "confusion = confusion_matrix(y_test, y_predicted_lgb)\n",
        "print('Confusion Matrix\\n')\n",
        "print(confusion)\n",
        "\n",
        "\n",
        "from sklearn.metrics import accuracy_score, precision_score, recall_score, f1_score\n",
        "print('\\nAccuracy: {:.2f}\\n'.format(accuracy_score(y_test, y_predicted_lgb)))\n",
        "\n",
        "print('Micro Precision: {:.2f}'.format(precision_score(y_test, y_predicted_lgb, average='micro')))\n",
        "print('Micro Recall: {:.2f}'.format(recall_score(y_test, y_predicted_lgb, average='micro')))\n",
        "print('Micro F1-score: {:.2f}\\n'.format(f1_score(y_test, y_predicted_lgb, average='micro')))\n",
        "\n",
        "print('Macro Precision: {:.2f}'.format(precision_score(y_test, y_predicted_lgb, average='macro')))\n",
        "print('Macro Recall: {:.2f}'.format(recall_score(y_test, y_predicted_lgb, average='macro')))\n",
        "print('Macro F1-score: {:.2f}\\n'.format(f1_score(y_test, y_predicted_lgb, average='macro')))\n",
        "\n",
        "print('Weighted Precision: {:.2f}'.format(precision_score(y_test, y_predicted_lgb, average='weighted')))\n",
        "print('Weighted Recall: {:.2f}'.format(recall_score(y_test, y_predicted_lgb, average='weighted')))\n",
        "print('Weighted F1-score: {:.2f}'.format(f1_score(y_test, y_predicted_lgb, average='weighted')))\n",
        "\n",
        "from sklearn.metrics import classification_report\n",
        "print('\\nClassification Report lightgbm\\n')\n",
        "print(classification_report(y_test, y_predicted_lgb, target_names=['Class 1', 'Class 2', 'Class 3','Class 4','Class 5','Class 6','Class 7','Class 8','Class 9']))\n",
        "\n"
      ]
    },
    {
      "cell_type": "code",
      "execution_count": 176,
      "metadata": {
        "id": "dY6yYYfQbaSJ"
      },
      "outputs": [],
      "source": [
        ""
      ]
    },
    {
      "cell_type": "code",
      "execution_count": 177,
      "metadata": {
        "id": "kgyUNWwRbaSK"
      },
      "outputs": [],
      "source": [
        "from sklearn.ensemble import RandomForestClassifier\n",
        "classifier = RandomForestClassifier(n_estimators=1000,max_depth=23,min_samples_split=10, random_state=10)\n",
        "\n",
        "classifier.fit(x_train,y_train)\n",
        "y_pred=classifier.predict(x_test)"
      ]
    },
    {
      "cell_type": "code",
      "execution_count": 178,
      "metadata": {
        "colab": {
          "base_uri": "https://localhost:8080/"
        },
        "id": "_EalE-4nbaSK",
        "outputId": "b075d2d8-1f7a-43d5-8605-53c733872be4"
      },
      "outputs": [
        {
          "output_type": "stream",
          "name": "stdout",
          "text": [
            "Confusion Matrix\n",
            "\n",
            "[[ 55   1   0  29   5   1  12   0   0]\n",
            " [  6  25   0   4   0   0  57   0   0]\n",
            " [  1   0   0   8   2   1  12   0   0]\n",
            " [ 18   5   0  94   2   3  22   0   0]\n",
            " [  9   6   0   7  19   4  15   0   0]\n",
            " [  9   3   0   3   3  21  12   0   0]\n",
            " [  7  15   1   9   0   2 149   0   0]\n",
            " [  0   1   0   0   0   0   1   0   0]\n",
            " [  0   0   0   1   0   0   1   1   3]]\n",
            "\n",
            "Accuracy: 0.55\n",
            "\n",
            "Micro Precision: 0.55\n",
            "Micro Recall: 0.55\n",
            "Micro F1-score: 0.55\n",
            "\n",
            "Macro Precision: 0.49\n",
            "Macro Recall: 0.39\n",
            "Macro F1-score: 0.41\n",
            "\n",
            "Weighted Precision: 0.53\n",
            "Weighted Recall: 0.55\n",
            "Weighted F1-score: 0.52\n",
            "\n",
            "Classification Report Random Forest\n",
            "\n",
            "              precision    recall  f1-score   support\n",
            "\n",
            "     Class 1       0.52      0.53      0.53       103\n",
            "     Class 2       0.45      0.27      0.34        92\n",
            "     Class 3       0.00      0.00      0.00        24\n",
            "     Class 4       0.61      0.65      0.63       144\n",
            "     Class 5       0.61      0.32      0.42        60\n",
            "     Class 6       0.66      0.41      0.51        51\n",
            "     Class 7       0.53      0.81      0.64       183\n",
            "     Class 8       0.00      0.00      0.00         2\n",
            "     Class 9       1.00      0.50      0.67         6\n",
            "\n",
            "    accuracy                           0.55       665\n",
            "   macro avg       0.49      0.39      0.41       665\n",
            "weighted avg       0.53      0.55      0.52       665\n",
            "\n"
          ]
        }
      ],
      "source": [
        "\n",
        "\n",
        "\n",
        "#importing confusion matrix for \n",
        "from sklearn.metrics import confusion_matrix\n",
        "confusion = confusion_matrix(y_test, y_pred)\n",
        "print('Confusion Matrix\\n')\n",
        "print(confusion)\n",
        "\n",
        "\n",
        "from sklearn.metrics import accuracy_score, precision_score, recall_score, f1_score\n",
        "print('\\nAccuracy: {:.2f}\\n'.format(accuracy_score(y_test, y_pred)))\n",
        "\n",
        "print('Micro Precision: {:.2f}'.format(precision_score(y_test, y_pred, average='micro')))\n",
        "print('Micro Recall: {:.2f}'.format(recall_score(y_test, y_pred, average='micro')))\n",
        "print('Micro F1-score: {:.2f}\\n'.format(f1_score(y_test, y_pred, average='micro')))\n",
        "\n",
        "print('Macro Precision: {:.2f}'.format(precision_score(y_test, y_pred, average='macro')))\n",
        "print('Macro Recall: {:.2f}'.format(recall_score(y_test, y_pred, average='macro')))\n",
        "print('Macro F1-score: {:.2f}\\n'.format(f1_score(y_test, y_pred, average='macro')))\n",
        "\n",
        "print('Weighted Precision: {:.2f}'.format(precision_score(y_test, y_pred, average='weighted')))\n",
        "print('Weighted Recall: {:.2f}'.format(recall_score(y_test, y_pred, average='weighted')))\n",
        "print('Weighted F1-score: {:.2f}'.format(f1_score(y_test, y_pred, average='weighted')))\n",
        "\n",
        "from sklearn.metrics import classification_report\n",
        "print('\\nClassification Report Random Forest\\n')\n",
        "print(classification_report(y_test, y_pred, target_names=['Class 1', 'Class 2', 'Class 3','Class 4','Class 5','Class 6','Class 7','Class 8','Class 9']))\n",
        "\n"
      ]
    },
    {
      "cell_type": "code",
      "execution_count": 179,
      "metadata": {
        "id": "RaFGVWG3baSK"
      },
      "outputs": [],
      "source": [
        "# XGBClassifier"
      ]
    },
    {
      "cell_type": "code",
      "execution_count": 180,
      "metadata": {
        "colab": {
          "base_uri": "https://localhost:8080/"
        },
        "id": "6CdXrKjgbaSK",
        "outputId": "4839038d-156b-42f5-c74e-5cf65db56721"
      },
      "outputs": [
        {
          "output_type": "stream",
          "name": "stdout",
          "text": [
            "Accuracy: 55.04%\n"
          ]
        }
      ],
      "source": [
        "from xgboost import XGBClassifier\n",
        "\n",
        "from sklearn.metrics import accuracy_score\n",
        "\n",
        "# fit model no training data\n",
        "model_xgb = XGBClassifier()\n",
        "model_xgb.fit(x_train, y_train)\n",
        "# make predictions for test data\n",
        "y_pred_xgb = model_xgb.predict(x_test)\n",
        "predictions = [round(value) for value in y_pred]\n",
        "# evaluate predictions\n",
        "accuracy = accuracy_score(y_test, predictions)\n",
        "print(\"Accuracy: %.2f%%\" % (accuracy * 100.0))"
      ]
    },
    {
      "cell_type": "code",
      "execution_count": 181,
      "metadata": {
        "id": "CJpOJ5IGbaSK"
      },
      "outputs": [],
      "source": [
        "# Performance Evaluation of XGB"
      ]
    },
    {
      "cell_type": "code",
      "execution_count": 182,
      "metadata": {
        "colab": {
          "base_uri": "https://localhost:8080/"
        },
        "id": "judM_p2PCefY",
        "outputId": "80ed7f59-ffd9-407b-9204-38d3fb041129"
      },
      "outputs": [
        {
          "output_type": "stream",
          "name": "stdout",
          "text": [
            "Confusion Matrix\n",
            "\n",
            "[[ 48   2   0  30   7   2  14   0   0]\n",
            " [  0  16   0   9   0   0  67   0   0]\n",
            " [  1   0   2   8   2   1  10   0   0]\n",
            " [ 20   0   0  94   2   2  26   0   0]\n",
            " [  5   0   0   8  19   5  23   0   0]\n",
            " [  2   0   0   7   4  19  19   0   0]\n",
            " [  5   3   2  11   0   1 161   0   0]\n",
            " [  0   1   0   0   0   0   1   0   0]\n",
            " [  0   0   0   1   0   0   1   1   3]]\n",
            "\n",
            "Accuracy: 0.54\n",
            "\n",
            "Micro Precision: 0.54\n",
            "Micro Recall: 0.54\n",
            "Micro F1-score: 0.54\n",
            "\n",
            "Macro Precision: 0.56\n",
            "Macro Recall: 0.38\n",
            "Macro F1-score: 0.41\n",
            "\n",
            "Weighted Precision: 0.58\n",
            "Weighted Recall: 0.54\n",
            "Weighted F1-score: 0.51\n",
            "\n",
            "Classification Report XGBClassifier\n",
            "\n",
            "              precision    recall  f1-score   support\n",
            "\n",
            "     Class 1       0.59      0.47      0.52       103\n",
            "     Class 2       0.73      0.17      0.28        92\n",
            "     Class 3       0.50      0.08      0.14        24\n",
            "     Class 4       0.56      0.65      0.60       144\n",
            "     Class 5       0.56      0.32      0.40        60\n",
            "     Class 6       0.63      0.37      0.47        51\n",
            "     Class 7       0.50      0.88      0.64       183\n",
            "     Class 8       0.00      0.00      0.00         2\n",
            "     Class 9       1.00      0.50      0.67         6\n",
            "\n",
            "    accuracy                           0.54       665\n",
            "   macro avg       0.56      0.38      0.41       665\n",
            "weighted avg       0.58      0.54      0.51       665\n",
            "\n"
          ]
        }
      ],
      "source": [
        "\n",
        "\n",
        "\n",
        "#importing confusion matrix for \n",
        "from sklearn.metrics import confusion_matrix\n",
        "confusion = confusion_matrix(y_test, y_pred_xgb)\n",
        "print('Confusion Matrix\\n')\n",
        "print(confusion)\n",
        "\n",
        "\n",
        "from sklearn.metrics import accuracy_score, precision_score, recall_score, f1_score\n",
        "print('\\nAccuracy: {:.2f}\\n'.format(accuracy_score(y_test, y_pred_xgb)))\n",
        "\n",
        "print('Micro Precision: {:.2f}'.format(precision_score(y_test, y_pred_xgb, average='micro')))\n",
        "print('Micro Recall: {:.2f}'.format(recall_score(y_test, y_pred_xgb, average='micro')))\n",
        "print('Micro F1-score: {:.2f}\\n'.format(f1_score(y_test, y_pred_xgb, average='micro')))\n",
        "\n",
        "print('Macro Precision: {:.2f}'.format(precision_score(y_test, y_pred_xgb, average='macro')))\n",
        "print('Macro Recall: {:.2f}'.format(recall_score(y_test, y_pred_xgb, average='macro')))\n",
        "print('Macro F1-score: {:.2f}\\n'.format(f1_score(y_test, y_pred_xgb, average='macro')))\n",
        "\n",
        "print('Weighted Precision: {:.2f}'.format(precision_score(y_test, y_pred_xgb, average='weighted')))\n",
        "print('Weighted Recall: {:.2f}'.format(recall_score(y_test, y_pred_xgb, average='weighted')))\n",
        "print('Weighted F1-score: {:.2f}'.format(f1_score(y_test, y_pred_xgb, average='weighted')))\n",
        "\n",
        "from sklearn.metrics import classification_report\n",
        "print('\\nClassification Report XGBClassifier\\n')\n",
        "print(classification_report(y_test, y_pred_xgb, target_names=['Class 1', 'Class 2', 'Class 3','Class 4','Class 5','Class 6','Class 7','Class 8','Class 9']))\n",
        "\n"
      ]
    },
    {
      "cell_type": "code",
      "execution_count": 182,
      "metadata": {
        "id": "h7nWhUUwbaSL"
      },
      "outputs": [],
      "source": [
        ""
      ]
    },
    {
      "cell_type": "code",
      "execution_count": 183,
      "metadata": {
        "id": "qQi8-sCFCefa",
        "colab": {
          "base_uri": "https://localhost:8080/"
        },
        "outputId": "47efa918-4eb3-4d81-e468-d161c5b55aad"
      },
      "outputs": [
        {
          "output_type": "stream",
          "name": "stderr",
          "text": [
            "/usr/local/lib/python3.7/dist-packages/sklearn/linear_model/_logistic.py:818: ConvergenceWarning: lbfgs failed to converge (status=1):\n",
            "STOP: TOTAL NO. of ITERATIONS REACHED LIMIT.\n",
            "\n",
            "Increase the number of iterations (max_iter) or scale the data as shown in:\n",
            "    https://scikit-learn.org/stable/modules/preprocessing.html\n",
            "Please also refer to the documentation for alternative solver options:\n",
            "    https://scikit-learn.org/stable/modules/linear_model.html#logistic-regression\n",
            "  extra_warning_msg=_LOGISTIC_SOLVER_CONVERGENCE_MSG,\n"
          ]
        }
      ],
      "source": [
        "from sklearn.ensemble import RandomForestClassifier\n",
        "from sklearn.svm import LinearSVC\n",
        "from sklearn.linear_model import LogisticRegression\n",
        "from sklearn.preprocessing import StandardScaler\n",
        "from sklearn.pipeline import make_pipeline\n",
        "from sklearn.ensemble import StackingClassifier\n",
        "\n",
        "estimators = [('rf', RandomForestClassifier(n_estimators=1000, random_state=22)),('svr', make_pipeline(StandardScaler(),LinearSVC(random_state=32)))]\n",
        "clf = StackingClassifier(estimators = estimators, final_estimator=LogisticRegression())\n",
        "from sklearn.model_selection import train_test_split\n",
        "\n",
        "clf.fit(x_train, y_train)\n",
        "clf.score(x_test, y_test)\n",
        "y_pred_ensemble = clf.predict(x_test)"
      ]
    },
    {
      "cell_type": "code",
      "execution_count": 184,
      "metadata": {
        "colab": {
          "base_uri": "https://localhost:8080/"
        },
        "id": "md7QzNzbbaSL",
        "outputId": "a25579d9-e031-421c-fdef-fed7f2393c88"
      },
      "outputs": [
        {
          "output_type": "stream",
          "name": "stdout",
          "text": [
            "Confusion Matrix\n",
            "\n",
            "[[ 48   2   0  30   7   2  14   0   0]\n",
            " [  0  16   0   9   0   0  67   0   0]\n",
            " [  1   0   2   8   2   1  10   0   0]\n",
            " [ 20   0   0  94   2   2  26   0   0]\n",
            " [  5   0   0   8  19   5  23   0   0]\n",
            " [  2   0   0   7   4  19  19   0   0]\n",
            " [  5   3   2  11   0   1 161   0   0]\n",
            " [  0   1   0   0   0   0   1   0   0]\n",
            " [  0   0   0   1   0   0   1   1   3]]\n",
            "\n",
            "Accuracy: 0.54\n",
            "\n",
            "Micro Precision: 0.54\n",
            "Micro Recall: 0.54\n",
            "Micro F1-score: 0.54\n",
            "\n",
            "Macro Precision: 0.56\n",
            "Macro Recall: 0.38\n",
            "Macro F1-score: 0.41\n",
            "\n",
            "Weighted Precision: 0.58\n",
            "Weighted Recall: 0.54\n",
            "Weighted F1-score: 0.51\n",
            "\n",
            "Classification Report\n",
            "\n",
            "              precision    recall  f1-score   support\n",
            "\n",
            "     Class 1       0.59      0.47      0.52       103\n",
            "     Class 2       0.73      0.17      0.28        92\n",
            "     Class 3       0.50      0.08      0.14        24\n",
            "     Class 4       0.56      0.65      0.60       144\n",
            "     Class 5       0.56      0.32      0.40        60\n",
            "     Class 6       0.63      0.37      0.47        51\n",
            "     Class 7       0.50      0.88      0.64       183\n",
            "     Class 8       0.00      0.00      0.00         2\n",
            "     Class 9       1.00      0.50      0.67         6\n",
            "\n",
            "    accuracy                           0.54       665\n",
            "   macro avg       0.56      0.38      0.41       665\n",
            "weighted avg       0.58      0.54      0.51       665\n",
            "\n"
          ]
        }
      ],
      "source": [
        "\n",
        "\n",
        "\n",
        "#importing confusion matrix for \n",
        "from sklearn.metrics import confusion_matrix\n",
        "confusion = confusion_matrix(y_test, y_pred_xgb)\n",
        "print('Confusion Matrix\\n')\n",
        "print(confusion)\n",
        "\n",
        "\n",
        "from sklearn.metrics import accuracy_score, precision_score, recall_score, f1_score\n",
        "print('\\nAccuracy: {:.2f}\\n'.format(accuracy_score(y_test, y_pred_xgb)))\n",
        "\n",
        "print('Micro Precision: {:.2f}'.format(precision_score(y_test, y_pred_xgb, average='micro')))\n",
        "print('Micro Recall: {:.2f}'.format(recall_score(y_test, y_pred_xgb, average='micro')))\n",
        "print('Micro F1-score: {:.2f}\\n'.format(f1_score(y_test, y_pred_xgb, average='micro')))\n",
        "\n",
        "print('Macro Precision: {:.2f}'.format(precision_score(y_test, y_pred_xgb, average='macro')))\n",
        "print('Macro Recall: {:.2f}'.format(recall_score(y_test, y_pred_xgb, average='macro')))\n",
        "print('Macro F1-score: {:.2f}\\n'.format(f1_score(y_test, y_pred_xgb, average='macro')))\n",
        "\n",
        "print('Weighted Precision: {:.2f}'.format(precision_score(y_test, y_pred_xgb, average='weighted')))\n",
        "print('Weighted Recall: {:.2f}'.format(recall_score(y_test, y_pred_xgb, average='weighted')))\n",
        "print('Weighted F1-score: {:.2f}'.format(f1_score(y_test, y_pred_xgb, average='weighted')))\n",
        "\n",
        "from sklearn.metrics import classification_report\n",
        "print('\\nClassification Report\\n')\n",
        "print(classification_report(y_test, y_pred_xgb, target_names=['Class 1', 'Class 2', 'Class 3','Class 4','Class 5','Class 6','Class 7','Class 8','Class 9']))\n",
        "\n"
      ]
    },
    {
      "cell_type": "code",
      "execution_count": 185,
      "metadata": {
        "id": "jCrOsuTHFvXj"
      },
      "outputs": [],
      "source": [
        "#Decision Tree Classifier \n",
        "from sklearn.tree import DecisionTreeClassifier\n",
        "model_dt = DecisionTreeClassifier(random_state = 1)\n",
        "model_dt = model_dt.fit(x_train, y_train)\n",
        "\n",
        "y_predicted_dt = model_dt.predict(x_test)  #prediction of validation data"
      ]
    },
    {
      "cell_type": "code",
      "execution_count": 186,
      "metadata": {
        "colab": {
          "base_uri": "https://localhost:8080/"
        },
        "id": "AC1ul4bUbaSL",
        "outputId": "9d576717-72e6-47b3-e1e0-0f11c89e03b1"
      },
      "outputs": [
        {
          "output_type": "stream",
          "name": "stdout",
          "text": [
            "Confusion Matrix\n",
            "\n",
            "[[49  3  1 27  6  6  8  1  2]\n",
            " [ 5 44  1  3  4  4 31  0  0]\n",
            " [ 3  2  2  7  3  0  7  0  0]\n",
            " [22  5  4 89  7  8  8  1  0]\n",
            " [14  4  3  7 23  4  4  0  1]\n",
            " [ 8  6  2  4  0 25  6  0  0]\n",
            " [12 47  4 11  8  5 95  0  1]\n",
            " [ 0  1  0  0  0  0  0  1  0]\n",
            " [ 0  0  0  1  0  0  1  1  3]]\n",
            "\n",
            "Accuracy: 0.50\n",
            "\n",
            "Micro Precision: 0.50\n",
            "Micro Recall: 0.50\n",
            "Micro F1-score: 0.50\n",
            "\n",
            "Macro Precision: 0.42\n",
            "Macro Recall: 0.45\n",
            "Macro F1-score: 0.43\n",
            "\n",
            "Weighted Precision: 0.50\n",
            "Weighted Recall: 0.50\n",
            "Weighted F1-score: 0.50\n",
            "\n",
            "Classification Report DecisionTreeClassifier\n",
            "\n",
            "              precision    recall  f1-score   support\n",
            "\n",
            "     Class 1       0.43      0.48      0.45       103\n",
            "     Class 2       0.39      0.48      0.43        92\n",
            "     Class 3       0.12      0.08      0.10        24\n",
            "     Class 4       0.60      0.62      0.61       144\n",
            "     Class 5       0.45      0.38      0.41        60\n",
            "     Class 6       0.48      0.49      0.49        51\n",
            "     Class 7       0.59      0.52      0.55       183\n",
            "     Class 8       0.25      0.50      0.33         2\n",
            "     Class 9       0.43      0.50      0.46         6\n",
            "\n",
            "    accuracy                           0.50       665\n",
            "   macro avg       0.42      0.45      0.43       665\n",
            "weighted avg       0.50      0.50      0.50       665\n",
            "\n"
          ]
        }
      ],
      "source": [
        "from sklearn.datasets import make_classification\n",
        "#from sklearn.model_selection import train_test_split\n",
        "#from sklearn.cross_validation import StratifiedShuffleSplit\n",
        "from sklearn.metrics import accuracy_score, f1_score, precision_score, recall_score, classification_report, confusion_matrix\n",
        "\n",
        "\n",
        "#importing confusion matrix for \n",
        "from sklearn.metrics import confusion_matrix\n",
        "confusion = confusion_matrix(y_test, y_predicted_dt)\n",
        "print('Confusion Matrix\\n')\n",
        "print(confusion)\n",
        "\n",
        "\n",
        "from sklearn.metrics import accuracy_score, precision_score, recall_score, f1_score\n",
        "print('\\nAccuracy: {:.2f}\\n'.format(accuracy_score(y_test, y_predicted_dt)))\n",
        "\n",
        "print('Micro Precision: {:.2f}'.format(precision_score(y_test, y_predicted_dt, average='micro')))\n",
        "print('Micro Recall: {:.2f}'.format(recall_score(y_test, y_predicted_dt, average='micro')))\n",
        "print('Micro F1-score: {:.2f}\\n'.format(f1_score(y_test, y_predicted_dt, average='micro')))\n",
        "\n",
        "print('Macro Precision: {:.2f}'.format(precision_score(y_test, y_predicted_dt, average='macro')))\n",
        "print('Macro Recall: {:.2f}'.format(recall_score(y_test, y_predicted_dt, average='macro')))\n",
        "print('Macro F1-score: {:.2f}\\n'.format(f1_score(y_test, y_predicted_dt, average='macro')))\n",
        "\n",
        "print('Weighted Precision: {:.2f}'.format(precision_score(y_test, y_predicted_dt, average='weighted')))\n",
        "print('Weighted Recall: {:.2f}'.format(recall_score(y_test, y_predicted_dt, average='weighted')))\n",
        "print('Weighted F1-score: {:.2f}'.format(f1_score(y_test, y_predicted_dt, average='weighted')))\n",
        "\n",
        "from sklearn.metrics import classification_report\n",
        "print('\\nClassification Report DecisionTreeClassifier\\n')\n",
        "print(classification_report(y_test, y_predicted_dt, target_names=['Class 1', 'Class 2', 'Class 3','Class 4','Class 5','Class 6','Class 7','Class 8','Class 9']))\n",
        "\n"
      ]
    },
    {
      "cell_type": "code",
      "execution_count": 187,
      "metadata": {
        "id": "Q5C8FmczHAWI"
      },
      "outputs": [],
      "source": [
        "#Naive Bayes \n",
        "from sklearn.naive_bayes import GaussianNB\n",
        "model_nb = GaussianNB()\n",
        "model_nb = model_nb.fit(x_train, y_train)\n",
        "\n",
        "y_predicted_nb = model_nb.predict(x_test)  #prediction of validation data"
      ]
    },
    {
      "cell_type": "code",
      "execution_count": 188,
      "metadata": {
        "colab": {
          "base_uri": "https://localhost:8080/"
        },
        "id": "WIKhulogG7F-",
        "outputId": "922d9a4d-9538-4851-8be4-185670b004e7"
      },
      "outputs": [
        {
          "output_type": "stream",
          "name": "stdout",
          "text": [
            "Confusion Matrix\n",
            "\n",
            "[[  6   0   0  50   0   0  47   0   0]\n",
            " [  2   0   0  20   0   0  70   0   0]\n",
            " [  0   0   0   7   0   0  17   0   0]\n",
            " [  1   0   0  68   0   0  75   0   0]\n",
            " [  0   0   0  10   0   0  50   0   0]\n",
            " [  1   0   0   6   0   0  44   0   0]\n",
            " [  4   0   0  19   0   0 160   0   0]\n",
            " [  0   0   0   1   0   0   1   0   0]\n",
            " [  0   0   0   3   0   0   3   0   0]]\n",
            "\n",
            "Accuracy: 0.35\n",
            "\n",
            "Micro Precision: 0.35\n",
            "Micro Recall: 0.35\n",
            "Micro F1-score: 0.35\n",
            "\n",
            "Macro Precision: 0.13\n",
            "Macro Recall: 0.16\n",
            "Macro F1-score: 0.11\n",
            "\n",
            "Weighted Precision: 0.24\n",
            "Weighted Recall: 0.35\n",
            "Weighted F1-score: 0.24\n",
            "\n",
            "Classification Report GaussianNB\n",
            "\n",
            "              precision    recall  f1-score   support\n",
            "\n",
            "     Class 1       0.43      0.06      0.10       103\n",
            "     Class 2       0.00      0.00      0.00        92\n",
            "     Class 3       0.00      0.00      0.00        24\n",
            "     Class 4       0.37      0.47      0.41       144\n",
            "     Class 5       0.00      0.00      0.00        60\n",
            "     Class 6       0.00      0.00      0.00        51\n",
            "     Class 7       0.34      0.87      0.49       183\n",
            "     Class 8       0.00      0.00      0.00         2\n",
            "     Class 9       0.00      0.00      0.00         6\n",
            "\n",
            "    accuracy                           0.35       665\n",
            "   macro avg       0.13      0.16      0.11       665\n",
            "weighted avg       0.24      0.35      0.24       665\n",
            "\n"
          ]
        },
        {
          "output_type": "stream",
          "name": "stderr",
          "text": [
            "/usr/local/lib/python3.7/dist-packages/sklearn/metrics/_classification.py:1308: UndefinedMetricWarning: Precision is ill-defined and being set to 0.0 in labels with no predicted samples. Use `zero_division` parameter to control this behavior.\n",
            "  _warn_prf(average, modifier, msg_start, len(result))\n",
            "/usr/local/lib/python3.7/dist-packages/sklearn/metrics/_classification.py:1308: UndefinedMetricWarning: Precision is ill-defined and being set to 0.0 in labels with no predicted samples. Use `zero_division` parameter to control this behavior.\n",
            "  _warn_prf(average, modifier, msg_start, len(result))\n",
            "/usr/local/lib/python3.7/dist-packages/sklearn/metrics/_classification.py:1308: UndefinedMetricWarning: Precision and F-score are ill-defined and being set to 0.0 in labels with no predicted samples. Use `zero_division` parameter to control this behavior.\n",
            "  _warn_prf(average, modifier, msg_start, len(result))\n",
            "/usr/local/lib/python3.7/dist-packages/sklearn/metrics/_classification.py:1308: UndefinedMetricWarning: Precision and F-score are ill-defined and being set to 0.0 in labels with no predicted samples. Use `zero_division` parameter to control this behavior.\n",
            "  _warn_prf(average, modifier, msg_start, len(result))\n",
            "/usr/local/lib/python3.7/dist-packages/sklearn/metrics/_classification.py:1308: UndefinedMetricWarning: Precision and F-score are ill-defined and being set to 0.0 in labels with no predicted samples. Use `zero_division` parameter to control this behavior.\n",
            "  _warn_prf(average, modifier, msg_start, len(result))\n"
          ]
        }
      ],
      "source": [
        "from sklearn.datasets import make_classification\n",
        "#from sklearn.model_selection import train_test_split\n",
        "#from sklearn.cross_validation import StratifiedShuffleSplit\n",
        "from sklearn.metrics import accuracy_score, f1_score, precision_score, recall_score, classification_report, confusion_matrix\n",
        "\n",
        "\n",
        "#importing confusion matrix for \n",
        "from sklearn.metrics import confusion_matrix\n",
        "confusion = confusion_matrix(y_test, y_predicted_nb)\n",
        "print('Confusion Matrix\\n')\n",
        "print(confusion)\n",
        "\n",
        "\n",
        "from sklearn.metrics import accuracy_score, precision_score, recall_score, f1_score\n",
        "print('\\nAccuracy: {:.2f}\\n'.format(accuracy_score(y_test, y_predicted_nb)))\n",
        "\n",
        "print('Micro Precision: {:.2f}'.format(precision_score(y_test, y_predicted_nb, average='micro')))\n",
        "print('Micro Recall: {:.2f}'.format(recall_score(y_test, y_predicted_nb, average='micro')))\n",
        "print('Micro F1-score: {:.2f}\\n'.format(f1_score(y_test, y_predicted_nb, average='micro')))\n",
        "\n",
        "print('Macro Precision: {:.2f}'.format(precision_score(y_test, y_predicted_nb, average='macro')))\n",
        "print('Macro Recall: {:.2f}'.format(recall_score(y_test, y_predicted_nb, average='macro')))\n",
        "print('Macro F1-score: {:.2f}\\n'.format(f1_score(y_test, y_predicted_nb, average='macro')))\n",
        "\n",
        "print('Weighted Precision: {:.2f}'.format(precision_score(y_test, y_predicted_nb, average='weighted')))\n",
        "print('Weighted Recall: {:.2f}'.format(recall_score(y_test, y_predicted_nb, average='weighted')))\n",
        "print('Weighted F1-score: {:.2f}'.format(f1_score(y_test, y_predicted_nb, average='weighted')))\n",
        "\n",
        "from sklearn.metrics import classification_report\n",
        "print('\\nClassification Report GaussianNB\\n')\n",
        "print(classification_report(y_test, y_predicted_nb, target_names=['Class 1', 'Class 2', 'Class 3','Class 4','Class 5','Class 6','Class 7','Class 8','Class 9']))\n",
        "\n"
      ]
    },
    {
      "cell_type": "code",
      "execution_count": 189,
      "metadata": {
        "id": "lU4uUWihbaSM"
      },
      "outputs": [],
      "source": [
        "#KNeighbors Classifier\n",
        "from sklearn.neighbors import KNeighborsClassifier\n",
        "model_knn = KNeighborsClassifier(n_neighbors = 3)\n",
        "model_knn = model_knn.fit(x_train, y_train)\n",
        "\n",
        "y_predicted_knn = model_knn.predict(x_test)  #prediction of validation data"
      ]
    },
    {
      "cell_type": "code",
      "execution_count": 190,
      "metadata": {
        "colab": {
          "base_uri": "https://localhost:8080/"
        },
        "id": "oUaqsG4EbaSM",
        "outputId": "594afcb0-8731-4c28-deb3-8ed29124e04a"
      },
      "outputs": [
        {
          "output_type": "stream",
          "name": "stdout",
          "text": [
            "Confusion Matrix\n",
            "\n",
            "[[63  6  0 20  1  5  8  0  0]\n",
            " [23 24  1  9  1  4 30  0  0]\n",
            " [ 2  3  2  9  0  2  6  0  0]\n",
            " [39 23  3 56  1  6 16  0  0]\n",
            " [18  9  1  4 13  5 10  0  0]\n",
            " [11  5  1  4  2 17 11  0  0]\n",
            " [34 41  6 12  6  5 79  0  0]\n",
            " [ 0  1  0  0  0  0  1  0  0]\n",
            " [ 1  0  0  2  0  0  1  1  1]]\n",
            "\n",
            "Accuracy: 0.38\n",
            "\n",
            "Micro Precision: 0.38\n",
            "Micro Recall: 0.38\n",
            "Micro F1-score: 0.38\n",
            "\n",
            "Macro Precision: 0.40\n",
            "Macro Recall: 0.28\n",
            "Macro F1-score: 0.29\n",
            "\n",
            "Weighted Precision: 0.41\n",
            "Weighted Recall: 0.38\n",
            "Weighted F1-score: 0.38\n",
            "\n",
            "Classification Report KNeighborsClassifier\n",
            "\n",
            "              precision    recall  f1-score   support\n",
            "\n",
            "     Class 1       0.33      0.61      0.43       103\n",
            "     Class 2       0.21      0.26      0.24        92\n",
            "     Class 3       0.14      0.08      0.11        24\n",
            "     Class 4       0.48      0.39      0.43       144\n",
            "     Class 5       0.54      0.22      0.31        60\n",
            "     Class 6       0.39      0.33      0.36        51\n",
            "     Class 7       0.49      0.43      0.46       183\n",
            "     Class 8       0.00      0.00      0.00         2\n",
            "     Class 9       1.00      0.17      0.29         6\n",
            "\n",
            "    accuracy                           0.38       665\n",
            "   macro avg       0.40      0.28      0.29       665\n",
            "weighted avg       0.41      0.38      0.38       665\n",
            "\n"
          ]
        }
      ],
      "source": [
        "from sklearn.datasets import make_classification\n",
        "#from sklearn.model_selection import train_test_split\n",
        "#from sklearn.cross_validation import StratifiedShuffleSplit\n",
        "from sklearn.metrics import accuracy_score, f1_score, precision_score, recall_score, classification_report, confusion_matrix\n",
        "\n",
        "\n",
        "#importing confusion matrix for \n",
        "from sklearn.metrics import confusion_matrix\n",
        "confusion = confusion_matrix(y_test, y_predicted_knn)\n",
        "print('Confusion Matrix\\n')\n",
        "print(confusion)\n",
        "\n",
        "\n",
        "from sklearn.metrics import accuracy_score, precision_score, recall_score, f1_score\n",
        "print('\\nAccuracy: {:.2f}\\n'.format(accuracy_score(y_test, y_predicted_knn)))\n",
        "\n",
        "print('Micro Precision: {:.2f}'.format(precision_score(y_test, y_predicted_knn, average='micro')))\n",
        "print('Micro Recall: {:.2f}'.format(recall_score(y_test, y_predicted_knn, average='micro')))\n",
        "print('Micro F1-score: {:.2f}\\n'.format(f1_score(y_test, y_predicted_knn, average='micro')))\n",
        "\n",
        "print('Macro Precision: {:.2f}'.format(precision_score(y_test, y_predicted_knn, average='macro')))\n",
        "print('Macro Recall: {:.2f}'.format(recall_score(y_test, y_predicted_knn, average='macro')))\n",
        "print('Macro F1-score: {:.2f}\\n'.format(f1_score(y_test, y_predicted_knn, average='macro')))\n",
        "\n",
        "print('Weighted Precision: {:.2f}'.format(precision_score(y_test, y_predicted_knn, average='weighted')))\n",
        "print('Weighted Recall: {:.2f}'.format(recall_score(y_test, y_predicted_knn, average='weighted')))\n",
        "print('Weighted F1-score: {:.2f}'.format(f1_score(y_test, y_predicted_knn, average='weighted')))\n",
        "\n",
        "from sklearn.metrics import classification_report\n",
        "print('\\nClassification Report KNeighborsClassifier\\n')\n",
        "print(classification_report(y_test, y_predicted_knn, target_names=['Class 1', 'Class 2', 'Class 3','Class 4','Class 5','Class 6','Class 7','Class 8','Class 9']))\n",
        "\n"
      ]
    },
    {
      "cell_type": "code",
      "execution_count": 191,
      "metadata": {
        "id": "V4mrVm6NbaSM"
      },
      "outputs": [],
      "source": [
        "from sklearn.svm import SVC\n",
        "model_svm = SVC(random_state = 1 )\n",
        "model_svm = model_svm.fit( x_train , y_train )\n",
        "\n",
        "y_predicted_svm = model_svm.predict( x_test ) #prediction of validation data\n"
      ]
    },
    {
      "cell_type": "code",
      "execution_count": 192,
      "metadata": {
        "colab": {
          "base_uri": "https://localhost:8080/"
        },
        "id": "WvjbBOK-baSN",
        "outputId": "92754c82-e7e0-4016-e41b-71eef8037422"
      },
      "outputs": [
        {
          "output_type": "stream",
          "name": "stdout",
          "text": [
            "Confusion Matrix\n",
            "\n",
            "[[ 31   0   0  31   0   0  41   0   0]\n",
            " [  8   0   0  14   0   0  70   0   0]\n",
            " [  2   0   0   7   0   0  15   0   0]\n",
            " [ 23   0   0  50   0   0  71   0   0]\n",
            " [  7   0   0  11   0   0  42   0   0]\n",
            " [  7   0   0   5   0   0  39   0   0]\n",
            " [  7   0   0  16   0   0 160   0   0]\n",
            " [  0   0   0   1   0   0   1   0   0]\n",
            " [  0   0   0   3   0   0   3   0   0]]\n",
            "\n",
            "Accuracy: 0.36\n",
            "\n",
            "Micro Precision: 0.36\n",
            "Micro Recall: 0.36\n",
            "Micro F1-score: 0.36\n",
            "\n",
            "Macro Precision: 0.12\n",
            "Macro Recall: 0.17\n",
            "Macro F1-score: 0.13\n",
            "\n",
            "Weighted Precision: 0.23\n",
            "Weighted Recall: 0.36\n",
            "Weighted F1-score: 0.27\n",
            "\n",
            "Classification Report SVM\n",
            "\n",
            "              precision    recall  f1-score   support\n",
            "\n",
            "     Class 1       0.36      0.30      0.33       103\n",
            "     Class 2       0.00      0.00      0.00        92\n",
            "     Class 3       0.00      0.00      0.00        24\n",
            "     Class 4       0.36      0.35      0.35       144\n",
            "     Class 5       0.00      0.00      0.00        60\n",
            "     Class 6       0.00      0.00      0.00        51\n",
            "     Class 7       0.36      0.87      0.51       183\n",
            "     Class 8       0.00      0.00      0.00         2\n",
            "     Class 9       0.00      0.00      0.00         6\n",
            "\n",
            "    accuracy                           0.36       665\n",
            "   macro avg       0.12      0.17      0.13       665\n",
            "weighted avg       0.23      0.36      0.27       665\n",
            "\n"
          ]
        },
        {
          "output_type": "stream",
          "name": "stderr",
          "text": [
            "/usr/local/lib/python3.7/dist-packages/sklearn/metrics/_classification.py:1308: UndefinedMetricWarning: Precision is ill-defined and being set to 0.0 in labels with no predicted samples. Use `zero_division` parameter to control this behavior.\n",
            "  _warn_prf(average, modifier, msg_start, len(result))\n",
            "/usr/local/lib/python3.7/dist-packages/sklearn/metrics/_classification.py:1308: UndefinedMetricWarning: Precision is ill-defined and being set to 0.0 in labels with no predicted samples. Use `zero_division` parameter to control this behavior.\n",
            "  _warn_prf(average, modifier, msg_start, len(result))\n",
            "/usr/local/lib/python3.7/dist-packages/sklearn/metrics/_classification.py:1308: UndefinedMetricWarning: Precision and F-score are ill-defined and being set to 0.0 in labels with no predicted samples. Use `zero_division` parameter to control this behavior.\n",
            "  _warn_prf(average, modifier, msg_start, len(result))\n",
            "/usr/local/lib/python3.7/dist-packages/sklearn/metrics/_classification.py:1308: UndefinedMetricWarning: Precision and F-score are ill-defined and being set to 0.0 in labels with no predicted samples. Use `zero_division` parameter to control this behavior.\n",
            "  _warn_prf(average, modifier, msg_start, len(result))\n",
            "/usr/local/lib/python3.7/dist-packages/sklearn/metrics/_classification.py:1308: UndefinedMetricWarning: Precision and F-score are ill-defined and being set to 0.0 in labels with no predicted samples. Use `zero_division` parameter to control this behavior.\n",
            "  _warn_prf(average, modifier, msg_start, len(result))\n"
          ]
        }
      ],
      "source": [
        "from sklearn.datasets import make_classification\n",
        "#from sklearn.model_selection import train_test_split\n",
        "#from sklearn.cross_validation import StratifiedShuffleSplit\n",
        "from sklearn.metrics import accuracy_score, f1_score, precision_score, recall_score, classification_report, confusion_matrix\n",
        "\n",
        "\n",
        "#importing confusion matrix for \n",
        "from sklearn.metrics import confusion_matrix\n",
        "confusion = confusion_matrix(y_test, y_predicted_svm)\n",
        "print('Confusion Matrix\\n')\n",
        "print(confusion)\n",
        "\n",
        "\n",
        "from sklearn.metrics import accuracy_score, precision_score, recall_score, f1_score\n",
        "print('\\nAccuracy: {:.2f}\\n'.format(accuracy_score(y_test, y_predicted_svm)))\n",
        "\n",
        "print('Micro Precision: {:.2f}'.format(precision_score(y_test, y_predicted_svm, average='micro')))\n",
        "print('Micro Recall: {:.2f}'.format(recall_score(y_test, y_predicted_svm, average='micro')))\n",
        "print('Micro F1-score: {:.2f}\\n'.format(f1_score(y_test, y_predicted_svm, average='micro')))\n",
        "\n",
        "print('Macro Precision: {:.2f}'.format(precision_score(y_test, y_predicted_svm, average='macro')))\n",
        "print('Macro Recall: {:.2f}'.format(recall_score(y_test, y_predicted_svm, average='macro')))\n",
        "print('Macro F1-score: {:.2f}\\n'.format(f1_score(y_test, y_predicted_svm, average='macro')))\n",
        "\n",
        "print('Weighted Precision: {:.2f}'.format(precision_score(y_test, y_predicted_svm, average='weighted')))\n",
        "print('Weighted Recall: {:.2f}'.format(recall_score(y_test, y_predicted_svm, average='weighted')))\n",
        "print('Weighted F1-score: {:.2f}'.format(f1_score(y_test, y_predicted_svm, average='weighted')))\n",
        "\n",
        "from sklearn.metrics import classification_report\n",
        "print('\\nClassification Report SVM\\n')\n",
        "print(classification_report(y_test, y_predicted_svm, target_names=['Class 1', 'Class 2', 'Class 3','Class 4','Class 5','Class 6','Class 7','Class 8','Class 9']))\n",
        "\n"
      ]
    },
    {
      "cell_type": "code",
      "execution_count": 192,
      "metadata": {
        "id": "MtSzQYkTbaSN"
      },
      "outputs": [],
      "source": [
        ""
      ]
    },
    {
      "cell_type": "code",
      "execution_count": 192,
      "metadata": {
        "id": "A3gWyQNnbaSN"
      },
      "outputs": [],
      "source": [
        ""
      ]
    },
    {
      "cell_type": "code",
      "execution_count": 193,
      "metadata": {
        "colab": {
          "base_uri": "https://localhost:8080/"
        },
        "id": "CS16bWgpCefZ",
        "outputId": "fd88151c-283d-49fe-8a07-e45032058b9c"
      },
      "outputs": [
        {
          "output_type": "stream",
          "name": "stdout",
          "text": [
            "Confusion Matrix\n",
            "\n",
            "[[ 65   1   0  21   6   4   6   0   0]\n",
            " [  2  36   1   4   1   1  47   0   0]\n",
            " [  1   0   4   8   3   0   8   0   0]\n",
            " [ 25   4   3  98   3   2   9   0   0]\n",
            " [ 10   5   1   7  23   2  12   0   0]\n",
            " [  5   4   0   5   2  27   8   0   0]\n",
            " [  6  25   2   4   3   3 140   0   0]\n",
            " [  0   1   0   0   0   0   0   1   0]\n",
            " [  0   0   0   0   0   0   1   1   4]]\n",
            "\n",
            "Accuracy: 0.60\n",
            "\n",
            "Micro Precision: 0.60\n",
            "Micro Recall: 0.60\n",
            "Micro F1-score: 0.60\n",
            "\n",
            "Macro Precision: 0.60\n",
            "Macro Recall: 0.52\n",
            "Macro F1-score: 0.55\n",
            "\n",
            "Weighted Precision: 0.59\n",
            "Weighted Recall: 0.60\n",
            "Weighted F1-score: 0.59\n",
            "\n",
            "Classification Report lightgbm\n",
            "\n",
            "              precision    recall  f1-score   support\n",
            "\n",
            "     Class 1       0.57      0.63      0.60       103\n",
            "     Class 2       0.47      0.39      0.43        92\n",
            "     Class 3       0.36      0.17      0.23        24\n",
            "     Class 4       0.67      0.68      0.67       144\n",
            "     Class 5       0.56      0.38      0.46        60\n",
            "     Class 6       0.69      0.53      0.60        51\n",
            "     Class 7       0.61      0.77      0.68       183\n",
            "     Class 8       0.50      0.50      0.50         2\n",
            "     Class 9       1.00      0.67      0.80         6\n",
            "\n",
            "    accuracy                           0.60       665\n",
            "   macro avg       0.60      0.52      0.55       665\n",
            "weighted avg       0.59      0.60      0.59       665\n",
            "\n"
          ]
        }
      ],
      "source": [
        "\n",
        "confusion = confusion_matrix(y_test, y_predicted_lgb)\n",
        "print('Confusion Matrix\\n')\n",
        "print(confusion)\n",
        "\n",
        "\n",
        "from sklearn.metrics import accuracy_score, precision_score, recall_score, f1_score\n",
        "print('\\nAccuracy: {:.2f}\\n'.format(accuracy_score(y_test, y_predicted_lgb)))\n",
        "\n",
        "print('Micro Precision: {:.2f}'.format(precision_score(y_test, y_predicted_lgb, average='micro')))\n",
        "print('Micro Recall: {:.2f}'.format(recall_score(y_test, y_predicted_lgb, average='micro')))\n",
        "print('Micro F1-score: {:.2f}\\n'.format(f1_score(y_test, y_predicted_lgb, average='micro')))\n",
        "\n",
        "print('Macro Precision: {:.2f}'.format(precision_score(y_test, y_predicted_lgb, average='macro')))\n",
        "print('Macro Recall: {:.2f}'.format(recall_score(y_test, y_predicted_lgb, average='macro')))\n",
        "print('Macro F1-score: {:.2f}\\n'.format(f1_score(y_test, y_predicted_lgb, average='macro')))\n",
        "\n",
        "print('Weighted Precision: {:.2f}'.format(precision_score(y_test, y_predicted_lgb, average='weighted')))\n",
        "print('Weighted Recall: {:.2f}'.format(recall_score(y_test, y_predicted_lgb, average='weighted')))\n",
        "print('Weighted F1-score: {:.2f}'.format(f1_score(y_test, y_predicted_lgb, average='weighted')))\n",
        "\n",
        "from sklearn.metrics import classification_report\n",
        "print('\\nClassification Report lightgbm\\n')\n",
        "print(classification_report(y_test, y_predicted_lgb, target_names=['Class 1', 'Class 2', 'Class 3','Class 4','Class 5','Class 6','Class 7','Class 8','Class 9']))\n",
        "\n"
      ]
    },
    {
      "cell_type": "code",
      "execution_count": 194,
      "metadata": {
        "id": "GKOXh8NEe5pA"
      },
      "outputs": [],
      "source": [
        "#Gradient Boosting Classifier\n",
        "from sklearn.ensemble import GradientBoostingClassifier\n",
        "model_gbc = GradientBoostingClassifier(random_state=1)\n",
        "model_gbc = model_gbc.fit(x_train, y_train)\n",
        "\n",
        "y_predicted_gbc = model_gbc.predict(x_test)  #prediction of validation data"
      ]
    },
    {
      "cell_type": "code",
      "execution_count": 195,
      "metadata": {
        "colab": {
          "base_uri": "https://localhost:8080/"
        },
        "id": "b8KelqjWelal",
        "outputId": "7157da26-b64c-40d1-a8d4-b80763fb0c49"
      },
      "outputs": [
        {
          "output_type": "stream",
          "name": "stdout",
          "text": [
            "Confusion Matrix\n",
            "\n",
            "[[ 58   1   0  25   8   2   8   1   0]\n",
            " [  0  25   0   9   0   1  56   1   0]\n",
            " [  1   0   3   7   3   0  10   0   0]\n",
            " [ 19   2   1 101   1   3  17   0   0]\n",
            " [  7   0   1   7  26   0  19   0   0]\n",
            " [  7   0   1   3   3  22  15   0   0]\n",
            " [  5   9   3  10   3   2 148   1   2]\n",
            " [  0   1   0   0   0   0   1   0   0]\n",
            " [  0   0   0   0   0   0   1   0   5]]\n",
            "\n",
            "Accuracy: 0.58\n",
            "\n",
            "Micro Precision: 0.58\n",
            "Micro Recall: 0.58\n",
            "Micro F1-score: 0.58\n",
            "\n",
            "Macro Precision: 0.53\n",
            "Macro Recall: 0.46\n",
            "Macro F1-score: 0.47\n",
            "\n",
            "Weighted Precision: 0.59\n",
            "Weighted Recall: 0.58\n",
            "Weighted F1-score: 0.56\n",
            "\n",
            "Classification Report GradientBoostingClassifier\n",
            "\n",
            "              precision    recall  f1-score   support\n",
            "\n",
            "     Class 1       0.60      0.56      0.58       103\n",
            "     Class 2       0.66      0.27      0.38        92\n",
            "     Class 3       0.33      0.12      0.18        24\n",
            "     Class 4       0.62      0.70      0.66       144\n",
            "     Class 5       0.59      0.43      0.50        60\n",
            "     Class 6       0.73      0.43      0.54        51\n",
            "     Class 7       0.54      0.81      0.65       183\n",
            "     Class 8       0.00      0.00      0.00         2\n",
            "     Class 9       0.71      0.83      0.77         6\n",
            "\n",
            "    accuracy                           0.58       665\n",
            "   macro avg       0.53      0.46      0.47       665\n",
            "weighted avg       0.59      0.58      0.56       665\n",
            "\n"
          ]
        }
      ],
      "source": [
        "\n",
        "confusion = confusion_matrix(y_test, y_predicted_gbc)\n",
        "print('Confusion Matrix\\n')\n",
        "print(confusion)\n",
        "\n",
        "\n",
        "from sklearn.metrics import accuracy_score, precision_score, recall_score, f1_score\n",
        "print('\\nAccuracy: {:.2f}\\n'.format(accuracy_score(y_test, y_predicted_gbc)))\n",
        "\n",
        "print('Micro Precision: {:.2f}'.format(precision_score(y_test, y_predicted_gbc, average='micro')))\n",
        "print('Micro Recall: {:.2f}'.format(recall_score(y_test, y_predicted_gbc, average='micro')))\n",
        "print('Micro F1-score: {:.2f}\\n'.format(f1_score(y_test, y_predicted_gbc, average='micro')))\n",
        "\n",
        "print('Macro Precision: {:.2f}'.format(precision_score(y_test, y_predicted_gbc, average='macro')))\n",
        "print('Macro Recall: {:.2f}'.format(recall_score(y_test, y_predicted_gbc, average='macro')))\n",
        "print('Macro F1-score: {:.2f}\\n'.format(f1_score(y_test, y_predicted_gbc, average='macro')))\n",
        "\n",
        "print('Weighted Precision: {:.2f}'.format(precision_score(y_test, y_predicted_gbc, average='weighted')))\n",
        "print('Weighted Recall: {:.2f}'.format(recall_score(y_test, y_predicted_gbc, average='weighted')))\n",
        "print('Weighted F1-score: {:.2f}'.format(f1_score(y_test, y_predicted_gbc, average='weighted')))\n",
        "\n",
        "from sklearn.metrics import classification_report\n",
        "print('\\nClassification Report GradientBoostingClassifier\\n')\n",
        "print(classification_report(y_test, y_predicted_gbc, target_names=['Class 1', 'Class 2', 'Class 3','Class 4','Class 5','Class 6','Class 7','Class 8','Class 9']))\n",
        "\n"
      ]
    },
    {
      "cell_type": "code",
      "execution_count": 196,
      "metadata": {
        "colab": {
          "base_uri": "https://localhost:8080/"
        },
        "id": "BcCaxK5Sg4sZ",
        "outputId": "53849a7c-4711-46bd-9848-61aafce668f6"
      },
      "outputs": [
        {
          "output_type": "execute_result",
          "data": {
            "text/plain": [
              "LogisticRegression()"
            ]
          },
          "metadata": {},
          "execution_count": 196
        }
      ],
      "source": [
        "from sklearn.linear_model import LogisticRegression\n",
        "logisticRegr = LogisticRegression()\n",
        "logisticRegr.fit(x_train, y_train)"
      ]
    },
    {
      "cell_type": "code",
      "execution_count": 197,
      "metadata": {
        "id": "3BUVRQp4hB91"
      },
      "outputs": [],
      "source": [
        "y_predicted_lr= logisticRegr.predict(x_test) "
      ]
    },
    {
      "cell_type": "code",
      "execution_count": 198,
      "metadata": {
        "colab": {
          "base_uri": "https://localhost:8080/"
        },
        "id": "a8F0okKKCefb",
        "outputId": "54643657-1dc0-406f-de08-47241b41204f"
      },
      "outputs": [
        {
          "output_type": "stream",
          "name": "stdout",
          "text": [
            "Confusion Matrix\n",
            "\n",
            "[[  4   0   0  54   0   0  45   0   0]\n",
            " [  2   0   0  21   0   0  69   0   0]\n",
            " [  0   0   0   9   0   0  15   0   0]\n",
            " [  3   0   0  68   0   0  73   0   0]\n",
            " [  0   0   0   9   0   0  51   0   0]\n",
            " [  2   0   0   6   0   0  43   0   0]\n",
            " [  5   0   0  25   0   0 153   0   0]\n",
            " [  0   0   0   1   0   0   1   0   0]\n",
            " [  0   0   0   3   0   0   3   0   0]]\n",
            "\n",
            "Accuracy: 0.34\n",
            "\n",
            "Micro Precision: 0.34\n",
            "Micro Recall: 0.34\n",
            "Micro F1-score: 0.34\n",
            "\n",
            "Macro Precision: 0.10\n",
            "Macro Recall: 0.15\n",
            "Macro F1-score: 0.11\n",
            "\n",
            "Weighted Precision: 0.21\n",
            "Weighted Recall: 0.34\n",
            "Weighted F1-score: 0.23\n",
            "\n",
            "Classification Report Logistic Regression\n",
            "\n",
            "              precision    recall  f1-score   support\n",
            "\n",
            "     Class 1       0.25      0.04      0.07       103\n",
            "     Class 2       0.00      0.00      0.00        92\n",
            "     Class 3       0.00      0.00      0.00        24\n",
            "     Class 4       0.35      0.47      0.40       144\n",
            "     Class 5       0.00      0.00      0.00        60\n",
            "     Class 6       0.00      0.00      0.00        51\n",
            "     Class 7       0.34      0.84      0.48       183\n",
            "     Class 8       0.00      0.00      0.00         2\n",
            "     Class 9       0.00      0.00      0.00         6\n",
            "\n",
            "    accuracy                           0.34       665\n",
            "   macro avg       0.10      0.15      0.11       665\n",
            "weighted avg       0.21      0.34      0.23       665\n",
            "\n"
          ]
        },
        {
          "output_type": "stream",
          "name": "stderr",
          "text": [
            "/usr/local/lib/python3.7/dist-packages/sklearn/metrics/_classification.py:1308: UndefinedMetricWarning: Precision is ill-defined and being set to 0.0 in labels with no predicted samples. Use `zero_division` parameter to control this behavior.\n",
            "  _warn_prf(average, modifier, msg_start, len(result))\n",
            "/usr/local/lib/python3.7/dist-packages/sklearn/metrics/_classification.py:1308: UndefinedMetricWarning: Precision is ill-defined and being set to 0.0 in labels with no predicted samples. Use `zero_division` parameter to control this behavior.\n",
            "  _warn_prf(average, modifier, msg_start, len(result))\n",
            "/usr/local/lib/python3.7/dist-packages/sklearn/metrics/_classification.py:1308: UndefinedMetricWarning: Precision and F-score are ill-defined and being set to 0.0 in labels with no predicted samples. Use `zero_division` parameter to control this behavior.\n",
            "  _warn_prf(average, modifier, msg_start, len(result))\n",
            "/usr/local/lib/python3.7/dist-packages/sklearn/metrics/_classification.py:1308: UndefinedMetricWarning: Precision and F-score are ill-defined and being set to 0.0 in labels with no predicted samples. Use `zero_division` parameter to control this behavior.\n",
            "  _warn_prf(average, modifier, msg_start, len(result))\n",
            "/usr/local/lib/python3.7/dist-packages/sklearn/metrics/_classification.py:1308: UndefinedMetricWarning: Precision and F-score are ill-defined and being set to 0.0 in labels with no predicted samples. Use `zero_division` parameter to control this behavior.\n",
            "  _warn_prf(average, modifier, msg_start, len(result))\n"
          ]
        }
      ],
      "source": [
        "\n",
        "confusion = confusion_matrix(y_test, y_predicted_lr)\n",
        "print('Confusion Matrix\\n')\n",
        "print(confusion)\n",
        "\n",
        "\n",
        "from sklearn.metrics import accuracy_score, precision_score, recall_score, f1_score\n",
        "print('\\nAccuracy: {:.2f}\\n'.format(accuracy_score(y_test, y_predicted_lr)))\n",
        "\n",
        "print('Micro Precision: {:.2f}'.format(precision_score(y_test, y_predicted_lr, average='micro')))\n",
        "print('Micro Recall: {:.2f}'.format(recall_score(y_test, y_predicted_lr, average='micro')))\n",
        "print('Micro F1-score: {:.2f}\\n'.format(f1_score(y_test, y_predicted_lr, average='micro')))\n",
        "\n",
        "print('Macro Precision: {:.2f}'.format(precision_score(y_test, y_predicted_lr, average='macro')))\n",
        "print('Macro Recall: {:.2f}'.format(recall_score(y_test, y_predicted_lr, average='macro')))\n",
        "print('Macro F1-score: {:.2f}\\n'.format(f1_score(y_test, y_predicted_lr, average='macro')))\n",
        "\n",
        "print('Weighted Precision: {:.2f}'.format(precision_score(y_test, y_predicted_lr, average='weighted')))\n",
        "print('Weighted Recall: {:.2f}'.format(recall_score(y_test, y_predicted_lr, average='weighted')))\n",
        "print('Weighted F1-score: {:.2f}'.format(f1_score(y_test, y_predicted_lr, average='weighted')))\n",
        "\n",
        "from sklearn.metrics import classification_report\n",
        "print('\\nClassification Report Logistic Regression\\n')\n",
        "print(classification_report(y_test, y_predicted_lr, target_names=['Class 1', 'Class 2', 'Class 3','Class 4','Class 5','Class 6','Class 7','Class 8','Class 9']))\n",
        "\n"
      ]
    },
    {
      "cell_type": "code",
      "execution_count": 198,
      "metadata": {
        "id": "nNo62p3ECefd"
      },
      "outputs": [],
      "source": [
        ""
      ]
    },
    {
      "cell_type": "code",
      "execution_count": 198,
      "metadata": {
        "id": "_ZoSYm4xCefe"
      },
      "outputs": [],
      "source": [
        ""
      ]
    },
    {
      "cell_type": "code",
      "execution_count": 198,
      "metadata": {
        "id": "HPA1wom2Ceff"
      },
      "outputs": [],
      "source": [
        ""
      ]
    },
    {
      "cell_type": "code",
      "execution_count": 198,
      "metadata": {
        "id": "HmnwNskqCefg"
      },
      "outputs": [],
      "source": [
        ""
      ]
    },
    {
      "cell_type": "code",
      "execution_count": 198,
      "metadata": {
        "id": "HEGCrMR5Cefh"
      },
      "outputs": [],
      "source": [
        ""
      ]
    },
    {
      "cell_type": "code",
      "execution_count": 198,
      "metadata": {
        "id": "YxdCSlUYmlWS"
      },
      "outputs": [],
      "source": [
        ""
      ]
    },
    {
      "cell_type": "code",
      "execution_count": 198,
      "metadata": {
        "id": "FZzcxjf9Cefh"
      },
      "outputs": [],
      "source": [
        ""
      ]
    },
    {
      "cell_type": "code",
      "execution_count": 198,
      "metadata": {
        "id": "ZV3QF9AzCefi"
      },
      "outputs": [],
      "source": [
        ""
      ]
    },
    {
      "cell_type": "code",
      "execution_count": 198,
      "metadata": {
        "id": "BkV1LprPCefi"
      },
      "outputs": [],
      "source": [
        ""
      ]
    },
    {
      "cell_type": "code",
      "execution_count": 198,
      "metadata": {
        "id": "Fnyzzrp8Cefj"
      },
      "outputs": [],
      "source": [
        ""
      ]
    },
    {
      "cell_type": "code",
      "execution_count": 198,
      "metadata": {
        "id": "p602qsOECefe"
      },
      "outputs": [],
      "source": [
        ""
      ]
    },
    {
      "cell_type": "code",
      "execution_count": 198,
      "metadata": {
        "id": "MwGrjNOcCefj"
      },
      "outputs": [],
      "source": [
        ""
      ]
    }
  ],
  "metadata": {
    "colab": {
      "collapsed_sections": [],
      "name": "DataBots_FinalCodev1.ipynb",
      "provenance": []
    },
    "kernelspec": {
      "display_name": "Python 3",
      "language": "python",
      "name": "python3"
    },
    "language_info": {
      "codemirror_mode": {
        "name": "ipython",
        "version": 3
      },
      "file_extension": ".py",
      "mimetype": "text/x-python",
      "name": "python",
      "nbconvert_exporter": "python",
      "pygments_lexer": "ipython3",
      "version": "3.8.5"
    }
  },
  "nbformat": 4,
  "nbformat_minor": 0
}